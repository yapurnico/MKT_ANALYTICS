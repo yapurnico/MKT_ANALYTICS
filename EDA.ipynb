{
 "cells": [
  {
   "cell_type": "code",
   "execution_count": 1,
   "metadata": {},
   "outputs": [],
   "source": [
    "import numpy as np\n",
    "import pandas as pd\n",
    "import matplotlib.pyplot as plt\n",
    "import seaborn as sns"
   ]
  },
  {
   "cell_type": "markdown",
   "metadata": {},
   "source": [
    "### setting sns styles"
   ]
  },
  {
   "cell_type": "code",
   "execution_count": 37,
   "metadata": {},
   "outputs": [
    {
     "data": {
      "text/html": [
       "<svg  width=\"440\" height=\"55\"><rect x=\"0\" y=\"0\" width=\"55\" height=\"55\" style=\"fill:#1b0c41;stroke-width:2;stroke:rgb(255,255,255)\"/><rect x=\"55\" y=\"0\" width=\"55\" height=\"55\" style=\"fill:#4a0c6b;stroke-width:2;stroke:rgb(255,255,255)\"/><rect x=\"110\" y=\"0\" width=\"55\" height=\"55\" style=\"fill:#781c6d;stroke-width:2;stroke:rgb(255,255,255)\"/><rect x=\"165\" y=\"0\" width=\"55\" height=\"55\" style=\"fill:#a52c60;stroke-width:2;stroke:rgb(255,255,255)\"/><rect x=\"220\" y=\"0\" width=\"55\" height=\"55\" style=\"fill:#cf4446;stroke-width:2;stroke:rgb(255,255,255)\"/><rect x=\"275\" y=\"0\" width=\"55\" height=\"55\" style=\"fill:#ed6925;stroke-width:2;stroke:rgb(255,255,255)\"/><rect x=\"330\" y=\"0\" width=\"55\" height=\"55\" style=\"fill:#fb9b06;stroke-width:2;stroke:rgb(255,255,255)\"/><rect x=\"385\" y=\"0\" width=\"55\" height=\"55\" style=\"fill:#f7d13d;stroke-width:2;stroke:rgb(255,255,255)\"/></svg>"
      ],
      "text/plain": [
       "[(0.104551, 0.047008, 0.25343),\n",
       " (0.290763, 0.045644, 0.418637),\n",
       " (0.472328, 0.110547, 0.428334),\n",
       " (0.64626, 0.173914, 0.378359),\n",
       " (0.812239, 0.266786, 0.274661),\n",
       " (0.929644, 0.411479, 0.145367),\n",
       " (0.985315, 0.608422, 0.024202),\n",
       " (0.969783, 0.820825, 0.238686)]"
      ]
     },
     "execution_count": 37,
     "metadata": {},
     "output_type": "execute_result"
    }
   ],
   "source": [
    "sns.set_palette(\"inferno\",n_colors=8)\n",
    "\n",
    "sns.color_palette()"
   ]
  },
  {
   "cell_type": "code",
   "execution_count": 40,
   "metadata": {},
   "outputs": [],
   "source": [
    "sns.set_style(\"darkgrid\")"
   ]
  },
  {
   "cell_type": "markdown",
   "metadata": {},
   "source": [
    "### Loading data transformed"
   ]
  },
  {
   "cell_type": "code",
   "execution_count": 4,
   "metadata": {},
   "outputs": [
    {
     "data": {
      "text/html": [
       "<div>\n",
       "<style scoped>\n",
       "    .dataframe tbody tr th:only-of-type {\n",
       "        vertical-align: middle;\n",
       "    }\n",
       "\n",
       "    .dataframe tbody tr th {\n",
       "        vertical-align: top;\n",
       "    }\n",
       "\n",
       "    .dataframe thead th {\n",
       "        text-align: right;\n",
       "    }\n",
       "</style>\n",
       "<table border=\"1\" class=\"dataframe\">\n",
       "  <thead>\n",
       "    <tr style=\"text-align: right;\">\n",
       "      <th></th>\n",
       "      <th>lead_id</th>\n",
       "      <th>lead_date</th>\n",
       "      <th>lead_name</th>\n",
       "      <th>account_name</th>\n",
       "      <th>intro_call_satus</th>\n",
       "      <th>intro_call_scheduled_date</th>\n",
       "      <th>lead_stage</th>\n",
       "      <th>inbound_channel</th>\n",
       "      <th>outbound_channel</th>\n",
       "    </tr>\n",
       "  </thead>\n",
       "  <tbody>\n",
       "    <tr>\n",
       "      <th>0</th>\n",
       "      <td>481550356938455808</td>\n",
       "      <td>2024-04-01</td>\n",
       "      <td>Lalit</td>\n",
       "      <td>NextGen Digital</td>\n",
       "      <td>no_data</td>\n",
       "      <td>NaT</td>\n",
       "      <td>Closed</td>\n",
       "      <td>Mkt: Inbound: Direct Email</td>\n",
       "      <td>no_data</td>\n",
       "    </tr>\n",
       "    <tr>\n",
       "      <th>1</th>\n",
       "      <td>982768502160483584</td>\n",
       "      <td>2024-04-01</td>\n",
       "      <td>Sachi</td>\n",
       "      <td>Anesthesia Professionals Club</td>\n",
       "      <td>no_data</td>\n",
       "      <td>NaT</td>\n",
       "      <td>no_data</td>\n",
       "      <td>Mkt: Inbound: direct / (none)</td>\n",
       "      <td>no_data</td>\n",
       "    </tr>\n",
       "    <tr>\n",
       "      <th>2</th>\n",
       "      <td>275713475600787008</td>\n",
       "      <td>2024-04-01</td>\n",
       "      <td>youcef</td>\n",
       "      <td>EduMentor</td>\n",
       "      <td>no_data</td>\n",
       "      <td>NaT</td>\n",
       "      <td>no_data</td>\n",
       "      <td>Mkt: Inbound: Google Ads</td>\n",
       "      <td>no_data</td>\n",
       "    </tr>\n",
       "    <tr>\n",
       "      <th>3</th>\n",
       "      <td>488785612243604672</td>\n",
       "      <td>2024-04-01</td>\n",
       "      <td>Jim</td>\n",
       "      <td>Lariat Marketing Solutions</td>\n",
       "      <td>no_data</td>\n",
       "      <td>NaT</td>\n",
       "      <td>Closed</td>\n",
       "      <td>no_data</td>\n",
       "      <td>Mass mail</td>\n",
       "    </tr>\n",
       "    <tr>\n",
       "      <th>4</th>\n",
       "      <td>245574983586833312</td>\n",
       "      <td>2024-04-01</td>\n",
       "      <td>Eli</td>\n",
       "      <td>Sky Wing Studios</td>\n",
       "      <td>no_data</td>\n",
       "      <td>NaT</td>\n",
       "      <td>Closed</td>\n",
       "      <td>no_data</td>\n",
       "      <td>LinkedIn</td>\n",
       "    </tr>\n",
       "  </tbody>\n",
       "</table>\n",
       "</div>"
      ],
      "text/plain": [
       "              lead_id  lead_date lead_name                   account_name  \\\n",
       "0  481550356938455808 2024-04-01     Lalit                NextGen Digital   \n",
       "1  982768502160483584 2024-04-01     Sachi  Anesthesia Professionals Club   \n",
       "2  275713475600787008 2024-04-01    youcef                      EduMentor   \n",
       "3  488785612243604672 2024-04-01       Jim     Lariat Marketing Solutions   \n",
       "4  245574983586833312 2024-04-01       Eli               Sky Wing Studios   \n",
       "\n",
       "  intro_call_satus intro_call_scheduled_date lead_stage  \\\n",
       "0          no_data                       NaT     Closed   \n",
       "1          no_data                       NaT    no_data   \n",
       "2          no_data                       NaT    no_data   \n",
       "3          no_data                       NaT     Closed   \n",
       "4          no_data                       NaT     Closed   \n",
       "\n",
       "                 inbound_channel outbound_channel  \n",
       "0     Mkt: Inbound: Direct Email          no_data  \n",
       "1  Mkt: Inbound: direct / (none)          no_data  \n",
       "2       Mkt: Inbound: Google Ads          no_data  \n",
       "3                        no_data        Mass mail  \n",
       "4                        no_data         LinkedIn  "
      ]
     },
     "execution_count": 4,
     "metadata": {},
     "output_type": "execute_result"
    }
   ],
   "source": [
    "test_data = pd.read_excel(\"test_analysis_etl.xlsx\")\n",
    "test_data.head()"
   ]
  },
  {
   "cell_type": "code",
   "execution_count": 6,
   "metadata": {},
   "outputs": [],
   "source": [
    "### quick look at the statistics"
   ]
  },
  {
   "cell_type": "code",
   "execution_count": 5,
   "metadata": {},
   "outputs": [
    {
     "data": {
      "text/html": [
       "<div>\n",
       "<style scoped>\n",
       "    .dataframe tbody tr th:only-of-type {\n",
       "        vertical-align: middle;\n",
       "    }\n",
       "\n",
       "    .dataframe tbody tr th {\n",
       "        vertical-align: top;\n",
       "    }\n",
       "\n",
       "    .dataframe thead th {\n",
       "        text-align: right;\n",
       "    }\n",
       "</style>\n",
       "<table border=\"1\" class=\"dataframe\">\n",
       "  <thead>\n",
       "    <tr style=\"text-align: right;\">\n",
       "      <th></th>\n",
       "      <th>lead_id</th>\n",
       "      <th>lead_date</th>\n",
       "      <th>lead_name</th>\n",
       "      <th>account_name</th>\n",
       "      <th>intro_call_satus</th>\n",
       "      <th>intro_call_scheduled_date</th>\n",
       "      <th>lead_stage</th>\n",
       "      <th>inbound_channel</th>\n",
       "      <th>outbound_channel</th>\n",
       "    </tr>\n",
       "  </thead>\n",
       "  <tbody>\n",
       "    <tr>\n",
       "      <th>count</th>\n",
       "      <td>1.010000e+03</td>\n",
       "      <td>1010</td>\n",
       "      <td>1010</td>\n",
       "      <td>1010</td>\n",
       "      <td>1010</td>\n",
       "      <td>201</td>\n",
       "      <td>1010</td>\n",
       "      <td>1010</td>\n",
       "      <td>1010</td>\n",
       "    </tr>\n",
       "    <tr>\n",
       "      <th>unique</th>\n",
       "      <td>NaN</td>\n",
       "      <td>NaN</td>\n",
       "      <td>684</td>\n",
       "      <td>927</td>\n",
       "      <td>5</td>\n",
       "      <td>NaN</td>\n",
       "      <td>3</td>\n",
       "      <td>19</td>\n",
       "      <td>8</td>\n",
       "    </tr>\n",
       "    <tr>\n",
       "      <th>top</th>\n",
       "      <td>NaN</td>\n",
       "      <td>NaN</td>\n",
       "      <td>David</td>\n",
       "      <td>B2B Softwares</td>\n",
       "      <td>no_data</td>\n",
       "      <td>NaN</td>\n",
       "      <td>Closed</td>\n",
       "      <td>no_data</td>\n",
       "      <td>no_data</td>\n",
       "    </tr>\n",
       "    <tr>\n",
       "      <th>freq</th>\n",
       "      <td>NaN</td>\n",
       "      <td>NaN</td>\n",
       "      <td>17</td>\n",
       "      <td>15</td>\n",
       "      <td>747</td>\n",
       "      <td>NaN</td>\n",
       "      <td>906</td>\n",
       "      <td>801</td>\n",
       "      <td>209</td>\n",
       "    </tr>\n",
       "    <tr>\n",
       "      <th>mean</th>\n",
       "      <td>5.562798e+17</td>\n",
       "      <td>2023-12-18 10:28:45.148514816</td>\n",
       "      <td>NaN</td>\n",
       "      <td>NaN</td>\n",
       "      <td>NaN</td>\n",
       "      <td>2024-07-12 11:49:15.223880704</td>\n",
       "      <td>NaN</td>\n",
       "      <td>NaN</td>\n",
       "      <td>NaN</td>\n",
       "    </tr>\n",
       "    <tr>\n",
       "      <th>min</th>\n",
       "      <td>1.008889e+17</td>\n",
       "      <td>2023-09-01 00:00:00</td>\n",
       "      <td>NaN</td>\n",
       "      <td>NaN</td>\n",
       "      <td>NaN</td>\n",
       "      <td>2021-02-03 00:00:00</td>\n",
       "      <td>NaN</td>\n",
       "      <td>NaN</td>\n",
       "      <td>NaN</td>\n",
       "    </tr>\n",
       "    <tr>\n",
       "      <th>25%</th>\n",
       "      <td>3.228241e+17</td>\n",
       "      <td>2023-11-01 00:00:00</td>\n",
       "      <td>NaN</td>\n",
       "      <td>NaN</td>\n",
       "      <td>NaN</td>\n",
       "      <td>2023-11-10 00:00:00</td>\n",
       "      <td>NaN</td>\n",
       "      <td>NaN</td>\n",
       "      <td>NaN</td>\n",
       "    </tr>\n",
       "    <tr>\n",
       "      <th>50%</th>\n",
       "      <td>5.584735e+17</td>\n",
       "      <td>2024-01-01 00:00:00</td>\n",
       "      <td>NaN</td>\n",
       "      <td>NaN</td>\n",
       "      <td>NaN</td>\n",
       "      <td>2024-01-31 00:00:00</td>\n",
       "      <td>NaN</td>\n",
       "      <td>NaN</td>\n",
       "      <td>NaN</td>\n",
       "    </tr>\n",
       "    <tr>\n",
       "      <th>75%</th>\n",
       "      <td>7.879104e+17</td>\n",
       "      <td>2024-02-01 00:00:00</td>\n",
       "      <td>NaN</td>\n",
       "      <td>NaN</td>\n",
       "      <td>NaN</td>\n",
       "      <td>2024-03-13 00:00:00</td>\n",
       "      <td>NaN</td>\n",
       "      <td>NaN</td>\n",
       "      <td>NaN</td>\n",
       "    </tr>\n",
       "    <tr>\n",
       "      <th>max</th>\n",
       "      <td>9.997420e+17</td>\n",
       "      <td>2024-04-01 00:00:00</td>\n",
       "      <td>NaN</td>\n",
       "      <td>NaN</td>\n",
       "      <td>NaN</td>\n",
       "      <td>2124-02-29 00:00:00</td>\n",
       "      <td>NaN</td>\n",
       "      <td>NaN</td>\n",
       "      <td>NaN</td>\n",
       "    </tr>\n",
       "    <tr>\n",
       "      <th>std</th>\n",
       "      <td>2.614556e+17</td>\n",
       "      <td>NaN</td>\n",
       "      <td>NaN</td>\n",
       "      <td>NaN</td>\n",
       "      <td>NaN</td>\n",
       "      <td>NaN</td>\n",
       "      <td>NaN</td>\n",
       "      <td>NaN</td>\n",
       "      <td>NaN</td>\n",
       "    </tr>\n",
       "  </tbody>\n",
       "</table>\n",
       "</div>"
      ],
      "text/plain": [
       "             lead_id                      lead_date lead_name   account_name  \\\n",
       "count   1.010000e+03                           1010      1010           1010   \n",
       "unique           NaN                            NaN       684            927   \n",
       "top              NaN                            NaN     David  B2B Softwares   \n",
       "freq             NaN                            NaN        17             15   \n",
       "mean    5.562798e+17  2023-12-18 10:28:45.148514816       NaN            NaN   \n",
       "min     1.008889e+17            2023-09-01 00:00:00       NaN            NaN   \n",
       "25%     3.228241e+17            2023-11-01 00:00:00       NaN            NaN   \n",
       "50%     5.584735e+17            2024-01-01 00:00:00       NaN            NaN   \n",
       "75%     7.879104e+17            2024-02-01 00:00:00       NaN            NaN   \n",
       "max     9.997420e+17            2024-04-01 00:00:00       NaN            NaN   \n",
       "std     2.614556e+17                            NaN       NaN            NaN   \n",
       "\n",
       "       intro_call_satus      intro_call_scheduled_date lead_stage  \\\n",
       "count              1010                            201       1010   \n",
       "unique                5                            NaN          3   \n",
       "top             no_data                            NaN     Closed   \n",
       "freq                747                            NaN        906   \n",
       "mean                NaN  2024-07-12 11:49:15.223880704        NaN   \n",
       "min                 NaN            2021-02-03 00:00:00        NaN   \n",
       "25%                 NaN            2023-11-10 00:00:00        NaN   \n",
       "50%                 NaN            2024-01-31 00:00:00        NaN   \n",
       "75%                 NaN            2024-03-13 00:00:00        NaN   \n",
       "max                 NaN            2124-02-29 00:00:00        NaN   \n",
       "std                 NaN                            NaN        NaN   \n",
       "\n",
       "       inbound_channel outbound_channel  \n",
       "count             1010             1010  \n",
       "unique              19                8  \n",
       "top            no_data          no_data  \n",
       "freq               801              209  \n",
       "mean               NaN              NaN  \n",
       "min                NaN              NaN  \n",
       "25%                NaN              NaN  \n",
       "50%                NaN              NaN  \n",
       "75%                NaN              NaN  \n",
       "max                NaN              NaN  \n",
       "std                NaN              NaN  "
      ]
     },
     "execution_count": 5,
     "metadata": {},
     "output_type": "execute_result"
    }
   ],
   "source": [
    "test_data.describe(include='all')"
   ]
  },
  {
   "cell_type": "markdown",
   "metadata": {},
   "source": [
    "## Análysis"
   ]
  },
  {
   "cell_type": "markdown",
   "metadata": {},
   "source": [
    "### convertion rate"
   ]
  },
  {
   "cell_type": "code",
   "execution_count": 41,
   "metadata": {},
   "outputs": [
    {
     "data": {
      "text/plain": [
       "Text(0.5, 1.0, 'Lead Stage Distribution')"
      ]
     },
     "execution_count": 41,
     "metadata": {},
     "output_type": "execute_result"
    },
    {
     "data": {
      "image/png": "[encoded data removed]",
      "text/plain": [
       "<Figure size 800x600 with 1 Axes>"
      ]
     },
     "metadata": {},
     "output_type": "display_data"
    }
   ],
   "source": [
    "fig,ax=plt.subplots(figsize=(8,6))\n",
    "sns.barplot(test_data[\"lead_stage\"].value_counts())\n",
    "ax.set_title(\"Lead Stage Distribution\")"
   ]
  },
  {
   "cell_type": "code",
   "execution_count": 22,
   "metadata": {},
   "outputs": [],
   "source": [
    "### Assumming \"Closed\" means lead contacted and not converted to Client, Convertion rate is extremely low, i will further explore this in pbi"
   ]
  },
  {
   "cell_type": "markdown",
   "metadata": {},
   "source": [
    "### Quantity of leads acquired "
   ]
  },
  {
   "cell_type": "code",
   "execution_count": 42,
   "metadata": {},
   "outputs": [
    {
     "data": {
      "text/plain": [
       "Text(0.5, 1.0, 'Lead Acquirement')"
      ]
     },
     "execution_count": 42,
     "metadata": {},
     "output_type": "execute_result"
    },
    {
     "data": {
      "image/png": "[encoded data removed]",
      "text/plain": [
       "<Figure size 600x400 with 1 Axes>"
      ]
     },
     "metadata": {},
     "output_type": "display_data"
    }
   ],
   "source": [
    "fig,ax=plt.subplots(figsize=(6,4))\n",
    "sns.lineplot(test_data[\"lead_date\"].value_counts())\n",
    "ax.set_title(\"Lead Acquirement\")"
   ]
  },
  {
   "cell_type": "code",
   "execution_count": 44,
   "metadata": {},
   "outputs": [],
   "source": [
    "### i cant define if the lead count result for the period(8 months) is hogh or low,\n",
    "### becouse i have too few data and i cant define seasonality heere\n",
    "### I require data from at least 3 previous years to define the lead acquirement status and evolution"
   ]
  },
  {
   "cell_type": "code",
   "execution_count": null,
   "metadata": {},
   "outputs": [],
   "source": []
  },
  {
   "cell_type": "code",
   "execution_count": 47,
   "metadata": {},
   "outputs": [
    {
     "data": {
      "text/plain": [
       "account_name\n",
       "B2B Softwares                    15\n",
       "no_data                          11\n",
       "Stealth Mode Company             11\n",
       "Stealth Mode Corporation #145     9\n",
       "DataFlow                          3\n",
       "                                 ..\n",
       "TagTech                           1\n",
       "LumiGo                            1\n",
       "Tech Club                         1\n",
       "TestGenius                        1\n",
       "GG Gear                           1\n",
       "Name: count, Length: 927, dtype: int64"
      ]
     },
     "execution_count": 47,
     "metadata": {},
     "output_type": "execute_result"
    }
   ],
   "source": [
    "test_data[\"account_name\"].value_counts()"
   ]
  },
  {
   "cell_type": "code",
   "execution_count": null,
   "metadata": {},
   "outputs": [],
   "source": []
  },
  {
   "cell_type": "code",
   "execution_count": null,
   "metadata": {},
   "outputs": [],
   "source": []
  },
  {
   "cell_type": "code",
   "execution_count": null,
   "metadata": {},
   "outputs": [],
   "source": []
  },
  {
   "cell_type": "code",
   "execution_count": null,
   "metadata": {},
   "outputs": [],
   "source": []
  },
  {
   "cell_type": "code",
   "execution_count": null,
   "metadata": {},
   "outputs": [],
   "source": []
  }
 ],
 "metadata": {
  "kernelspec": {
   "display_name": "aeenv",
   "language": "python",
   "name": "python3"
  },
  "language_info": {
   "codemirror_mode": {
    "name": "ipython",
    "version": 3
   },
   "file_extension": ".py",
   "mimetype": "text/x-python",
   "name": "python",
   "nbconvert_exporter": "python",
   "pygments_lexer": "ipython3",
   "version": "3.11.5"
  }
 },
 "nbformat": 4,
 "nbformat_minor": 2
}
