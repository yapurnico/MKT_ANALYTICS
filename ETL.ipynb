{
 "cells": [
  {
   "cell_type": "code",
   "execution_count": 2,
   "metadata": {},
   "outputs": [],
   "source": [
    "import pandas as pd\n",
    "import numpy as np\n",
    "import matplotlib.pyplot as plt\n",
    "import seaborn as sns"
   ]
  },
  {
   "cell_type": "markdown",
   "metadata": {},
   "source": [
    "### Loading data"
   ]
  },
  {
   "cell_type": "code",
   "execution_count": 3,
   "metadata": {},
   "outputs": [
    {
     "data": {
      "text/html": [
       "<div>\n",
       "<style scoped>\n",
       "    .dataframe tbody tr th:only-of-type {\n",
       "        vertical-align: middle;\n",
       "    }\n",
       "\n",
       "    .dataframe tbody tr th {\n",
       "        vertical-align: top;\n",
       "    }\n",
       "\n",
       "    .dataframe thead th {\n",
       "        text-align: right;\n",
       "    }\n",
       "</style>\n",
       "<table border=\"1\" class=\"dataframe\">\n",
       "  <thead>\n",
       "    <tr style=\"text-align: right;\">\n",
       "      <th></th>\n",
       "      <th>Lead ID</th>\n",
       "      <th>Lead Month</th>\n",
       "      <th>Lead Name</th>\n",
       "      <th>Account Name</th>\n",
       "      <th>Intro call status</th>\n",
       "      <th>Intro call scheduled Date</th>\n",
       "      <th>Lead Stage</th>\n",
       "      <th>Inbound channel</th>\n",
       "      <th>Outbound channel</th>\n",
       "    </tr>\n",
       "  </thead>\n",
       "  <tbody>\n",
       "    <tr>\n",
       "      <th>0</th>\n",
       "      <td>481550356938455808</td>\n",
       "      <td>2024-04-01</td>\n",
       "      <td>Lalit</td>\n",
       "      <td>NextGen Digital</td>\n",
       "      <td>NaN</td>\n",
       "      <td>NaT</td>\n",
       "      <td>Closed</td>\n",
       "      <td>Mkt: Inbound: Direct Email</td>\n",
       "      <td>NaN</td>\n",
       "    </tr>\n",
       "    <tr>\n",
       "      <th>1</th>\n",
       "      <td>982768502160483584</td>\n",
       "      <td>2024-04-01</td>\n",
       "      <td>Sachi</td>\n",
       "      <td>Anesthesia Professionals Club</td>\n",
       "      <td>NaN</td>\n",
       "      <td>NaT</td>\n",
       "      <td>NaN</td>\n",
       "      <td>Mkt: Inbound: direct / (none)</td>\n",
       "      <td>NaN</td>\n",
       "    </tr>\n",
       "    <tr>\n",
       "      <th>2</th>\n",
       "      <td>275713475600787008</td>\n",
       "      <td>2024-04-01</td>\n",
       "      <td>youcef</td>\n",
       "      <td>EduMentor</td>\n",
       "      <td>NaN</td>\n",
       "      <td>NaT</td>\n",
       "      <td>NaN</td>\n",
       "      <td>Mkt: Inbound: Google Ads</td>\n",
       "      <td>NaN</td>\n",
       "    </tr>\n",
       "    <tr>\n",
       "      <th>3</th>\n",
       "      <td>488785612243604672</td>\n",
       "      <td>2024-04-01</td>\n",
       "      <td>Jim</td>\n",
       "      <td>Lariat Marketing Solutions</td>\n",
       "      <td>NaN</td>\n",
       "      <td>NaT</td>\n",
       "      <td>Closed</td>\n",
       "      <td>NaN</td>\n",
       "      <td>Mass mail</td>\n",
       "    </tr>\n",
       "    <tr>\n",
       "      <th>4</th>\n",
       "      <td>245574983586833344</td>\n",
       "      <td>2024-04-01</td>\n",
       "      <td>Eli</td>\n",
       "      <td>Sky Wing Studios</td>\n",
       "      <td>NaN</td>\n",
       "      <td>NaT</td>\n",
       "      <td>Closed</td>\n",
       "      <td>NaN</td>\n",
       "      <td>LinkedIn</td>\n",
       "    </tr>\n",
       "  </tbody>\n",
       "</table>\n",
       "</div>"
      ],
      "text/plain": [
       "              Lead ID Lead Month Lead Name                   Account Name  \\\n",
       "0  481550356938455808 2024-04-01     Lalit                NextGen Digital   \n",
       "1  982768502160483584 2024-04-01     Sachi  Anesthesia Professionals Club   \n",
       "2  275713475600787008 2024-04-01    youcef                      EduMentor   \n",
       "3  488785612243604672 2024-04-01       Jim     Lariat Marketing Solutions   \n",
       "4  245574983586833344 2024-04-01       Eli               Sky Wing Studios   \n",
       "\n",
       "  Intro call status Intro call scheduled Date Lead Stage  \\\n",
       "0               NaN                       NaT     Closed   \n",
       "1               NaN                       NaT        NaN   \n",
       "2               NaN                       NaT        NaN   \n",
       "3               NaN                       NaT     Closed   \n",
       "4               NaN                       NaT     Closed   \n",
       "\n",
       "                 Inbound channel Outbound channel  \n",
       "0     Mkt: Inbound: Direct Email              NaN  \n",
       "1  Mkt: Inbound: direct / (none)              NaN  \n",
       "2       Mkt: Inbound: Google Ads              NaN  \n",
       "3                            NaN        Mass mail  \n",
       "4                            NaN         LinkedIn  "
      ]
     },
     "execution_count": 3,
     "metadata": {},
     "output_type": "execute_result"
    }
   ],
   "source": [
    "test_data = pd.read_excel(\"test_analysis.xlsx\")\n",
    "test_data.head()"
   ]
  },
  {
   "cell_type": "markdown",
   "metadata": {},
   "source": [
    "### Changing column titles"
   ]
  },
  {
   "cell_type": "code",
   "execution_count": 4,
   "metadata": {},
   "outputs": [],
   "source": [
    "test_data.columns = [\"lead_id\",\"lead_date\",\"lead_name\",\"account_name\",\"intro_call_satus\",\"intro_call_scheduled_date\",\"lead_stage\",\"inbound_channel\",\"outbound_channel\"]"
   ]
  },
  {
   "cell_type": "markdown",
   "metadata": {},
   "source": [
    "### general data info"
   ]
  },
  {
   "cell_type": "code",
   "execution_count": 84,
   "metadata": {},
   "outputs": [
    {
     "name": "stdout",
     "output_type": "stream",
     "text": [
      "<class 'pandas.core.frame.DataFrame'>\n",
      "RangeIndex: 1010 entries, 0 to 1009\n",
      "Data columns (total 9 columns):\n",
      " #   Column                     Non-Null Count  Dtype         \n",
      "---  ------                     --------------  -----         \n",
      " 0   lead_id                    1010 non-null   int64         \n",
      " 1   lead_date                  1010 non-null   datetime64[ns]\n",
      " 2   lead_name                  1010 non-null   object        \n",
      " 3   account_name               999 non-null    object        \n",
      " 4   intro_call_satus           263 non-null    object        \n",
      " 5   intro_call_scheduled_date  201 non-null    datetime64[ns]\n",
      " 6   lead_stage                 909 non-null    object        \n",
      " 7   inbound_channel            209 non-null    object        \n",
      " 8   outbound_channel           801 non-null    object        \n",
      "dtypes: datetime64[ns](2), int64(1), object(6)\n",
      "memory usage: 71.1+ KB\n"
     ]
    }
   ],
   "source": [
    "test_data.info()"
   ]
  },
  {
   "cell_type": "code",
   "execution_count": 6,
   "metadata": {},
   "outputs": [],
   "source": [
    "### Dtypes are ok"
   ]
  },
  {
   "cell_type": "code",
   "execution_count": 8,
   "metadata": {},
   "outputs": [],
   "source": [
    "### Stats check"
   ]
  },
  {
   "cell_type": "code",
   "execution_count": 5,
   "metadata": {},
   "outputs": [
    {
     "data": {
      "text/html": [
       "<div>\n",
       "<style scoped>\n",
       "    .dataframe tbody tr th:only-of-type {\n",
       "        vertical-align: middle;\n",
       "    }\n",
       "\n",
       "    .dataframe tbody tr th {\n",
       "        vertical-align: top;\n",
       "    }\n",
       "\n",
       "    .dataframe thead th {\n",
       "        text-align: right;\n",
       "    }\n",
       "</style>\n",
       "<table border=\"1\" class=\"dataframe\">\n",
       "  <thead>\n",
       "    <tr style=\"text-align: right;\">\n",
       "      <th></th>\n",
       "      <th>lead_id</th>\n",
       "      <th>lead_date</th>\n",
       "      <th>lead_name</th>\n",
       "      <th>account_name</th>\n",
       "      <th>intro_call_satus</th>\n",
       "      <th>intro_call_scheduled_date</th>\n",
       "      <th>lead_stage</th>\n",
       "      <th>inbound_channel</th>\n",
       "      <th>outbound_channel</th>\n",
       "    </tr>\n",
       "  </thead>\n",
       "  <tbody>\n",
       "    <tr>\n",
       "      <th>count</th>\n",
       "      <td>1.010000e+03</td>\n",
       "      <td>1010</td>\n",
       "      <td>1010</td>\n",
       "      <td>999</td>\n",
       "      <td>263</td>\n",
       "      <td>201</td>\n",
       "      <td>909</td>\n",
       "      <td>209</td>\n",
       "      <td>801</td>\n",
       "    </tr>\n",
       "    <tr>\n",
       "      <th>unique</th>\n",
       "      <td>NaN</td>\n",
       "      <td>NaN</td>\n",
       "      <td>684</td>\n",
       "      <td>926</td>\n",
       "      <td>6</td>\n",
       "      <td>NaN</td>\n",
       "      <td>2</td>\n",
       "      <td>18</td>\n",
       "      <td>7</td>\n",
       "    </tr>\n",
       "    <tr>\n",
       "      <th>top</th>\n",
       "      <td>NaN</td>\n",
       "      <td>NaN</td>\n",
       "      <td>David</td>\n",
       "      <td>B2B Softwares</td>\n",
       "      <td>Сall completed</td>\n",
       "      <td>NaN</td>\n",
       "      <td>Closed</td>\n",
       "      <td>Mkt: Inbound: Google Ads</td>\n",
       "      <td>Warm email</td>\n",
       "    </tr>\n",
       "    <tr>\n",
       "      <th>freq</th>\n",
       "      <td>NaN</td>\n",
       "      <td>NaN</td>\n",
       "      <td>17</td>\n",
       "      <td>15</td>\n",
       "      <td>172</td>\n",
       "      <td>NaN</td>\n",
       "      <td>906</td>\n",
       "      <td>107</td>\n",
       "      <td>207</td>\n",
       "    </tr>\n",
       "    <tr>\n",
       "      <th>mean</th>\n",
       "      <td>5.562798e+17</td>\n",
       "      <td>2023-12-18 10:28:45.148514816</td>\n",
       "      <td>NaN</td>\n",
       "      <td>NaN</td>\n",
       "      <td>NaN</td>\n",
       "      <td>2024-07-12 11:49:15.223880704</td>\n",
       "      <td>NaN</td>\n",
       "      <td>NaN</td>\n",
       "      <td>NaN</td>\n",
       "    </tr>\n",
       "    <tr>\n",
       "      <th>min</th>\n",
       "      <td>1.008889e+17</td>\n",
       "      <td>2023-09-01 00:00:00</td>\n",
       "      <td>NaN</td>\n",
       "      <td>NaN</td>\n",
       "      <td>NaN</td>\n",
       "      <td>2021-02-03 00:00:00</td>\n",
       "      <td>NaN</td>\n",
       "      <td>NaN</td>\n",
       "      <td>NaN</td>\n",
       "    </tr>\n",
       "    <tr>\n",
       "      <th>25%</th>\n",
       "      <td>3.228241e+17</td>\n",
       "      <td>2023-11-01 00:00:00</td>\n",
       "      <td>NaN</td>\n",
       "      <td>NaN</td>\n",
       "      <td>NaN</td>\n",
       "      <td>2023-11-10 00:00:00</td>\n",
       "      <td>NaN</td>\n",
       "      <td>NaN</td>\n",
       "      <td>NaN</td>\n",
       "    </tr>\n",
       "    <tr>\n",
       "      <th>50%</th>\n",
       "      <td>5.584735e+17</td>\n",
       "      <td>2024-01-01 00:00:00</td>\n",
       "      <td>NaN</td>\n",
       "      <td>NaN</td>\n",
       "      <td>NaN</td>\n",
       "      <td>2024-01-31 00:00:00</td>\n",
       "      <td>NaN</td>\n",
       "      <td>NaN</td>\n",
       "      <td>NaN</td>\n",
       "    </tr>\n",
       "    <tr>\n",
       "      <th>75%</th>\n",
       "      <td>7.879104e+17</td>\n",
       "      <td>2024-02-01 00:00:00</td>\n",
       "      <td>NaN</td>\n",
       "      <td>NaN</td>\n",
       "      <td>NaN</td>\n",
       "      <td>2024-03-13 00:00:00</td>\n",
       "      <td>NaN</td>\n",
       "      <td>NaN</td>\n",
       "      <td>NaN</td>\n",
       "    </tr>\n",
       "    <tr>\n",
       "      <th>max</th>\n",
       "      <td>9.997420e+17</td>\n",
       "      <td>2024-04-01 00:00:00</td>\n",
       "      <td>NaN</td>\n",
       "      <td>NaN</td>\n",
       "      <td>NaN</td>\n",
       "      <td>2124-02-29 00:00:00</td>\n",
       "      <td>NaN</td>\n",
       "      <td>NaN</td>\n",
       "      <td>NaN</td>\n",
       "    </tr>\n",
       "    <tr>\n",
       "      <th>std</th>\n",
       "      <td>2.614556e+17</td>\n",
       "      <td>NaN</td>\n",
       "      <td>NaN</td>\n",
       "      <td>NaN</td>\n",
       "      <td>NaN</td>\n",
       "      <td>NaN</td>\n",
       "      <td>NaN</td>\n",
       "      <td>NaN</td>\n",
       "      <td>NaN</td>\n",
       "    </tr>\n",
       "  </tbody>\n",
       "</table>\n",
       "</div>"
      ],
      "text/plain": [
       "             lead_id                      lead_date lead_name   account_name  \\\n",
       "count   1.010000e+03                           1010      1010            999   \n",
       "unique           NaN                            NaN       684            926   \n",
       "top              NaN                            NaN     David  B2B Softwares   \n",
       "freq             NaN                            NaN        17             15   \n",
       "mean    5.562798e+17  2023-12-18 10:28:45.148514816       NaN            NaN   \n",
       "min     1.008889e+17            2023-09-01 00:00:00       NaN            NaN   \n",
       "25%     3.228241e+17            2023-11-01 00:00:00       NaN            NaN   \n",
       "50%     5.584735e+17            2024-01-01 00:00:00       NaN            NaN   \n",
       "75%     7.879104e+17            2024-02-01 00:00:00       NaN            NaN   \n",
       "max     9.997420e+17            2024-04-01 00:00:00       NaN            NaN   \n",
       "std     2.614556e+17                            NaN       NaN            NaN   \n",
       "\n",
       "       intro_call_satus      intro_call_scheduled_date lead_stage  \\\n",
       "count               263                            201        909   \n",
       "unique                6                            NaN          2   \n",
       "top      Сall completed                            NaN     Closed   \n",
       "freq                172                            NaN        906   \n",
       "mean                NaN  2024-07-12 11:49:15.223880704        NaN   \n",
       "min                 NaN            2021-02-03 00:00:00        NaN   \n",
       "25%                 NaN            2023-11-10 00:00:00        NaN   \n",
       "50%                 NaN            2024-01-31 00:00:00        NaN   \n",
       "75%                 NaN            2024-03-13 00:00:00        NaN   \n",
       "max                 NaN            2124-02-29 00:00:00        NaN   \n",
       "std                 NaN                            NaN        NaN   \n",
       "\n",
       "                 inbound_channel outbound_channel  \n",
       "count                        209              801  \n",
       "unique                        18                7  \n",
       "top     Mkt: Inbound: Google Ads       Warm email  \n",
       "freq                         107              207  \n",
       "mean                         NaN              NaN  \n",
       "min                          NaN              NaN  \n",
       "25%                          NaN              NaN  \n",
       "50%                          NaN              NaN  \n",
       "75%                          NaN              NaN  \n",
       "max                          NaN              NaN  \n",
       "std                          NaN              NaN  "
      ]
     },
     "execution_count": 5,
     "metadata": {},
     "output_type": "execute_result"
    }
   ],
   "source": [
    "test_data.describe(include=\"all\")"
   ]
  },
  {
   "cell_type": "markdown",
   "metadata": {},
   "source": [
    "### NA quantity check"
   ]
  },
  {
   "cell_type": "code",
   "execution_count": 57,
   "metadata": {},
   "outputs": [
    {
     "data": {
      "text/plain": [
       "lead_id                        0\n",
       "lead_date                      0\n",
       "lead_name                      0\n",
       "account_name                  11\n",
       "intro_call_satus             747\n",
       "intro_call_scheduled_date    809\n",
       "lead_stage                   101\n",
       "inbound_channel              801\n",
       "outbound_channel             209\n",
       "dtype: int64"
      ]
     },
     "execution_count": 57,
     "metadata": {},
     "output_type": "execute_result"
    }
   ],
   "source": [
    "test_data.isna().sum()"
   ]
  },
  {
   "cell_type": "markdown",
   "metadata": {},
   "source": [
    "### Filling NA data"
   ]
  },
  {
   "cell_type": "code",
   "execution_count": 6,
   "metadata": {},
   "outputs": [],
   "source": [
    "test_data[\"account_name\"] = test_data[\"account_name\"].fillna(\"no_data\")\n",
    "test_data[\"intro_call_satus\"] = test_data[\"intro_call_satus\"].fillna(\"no_data\")\n",
    "test_data[\"lead_stage\"] = test_data[\"lead_stage\"].fillna(\"no_data\")\n",
    "test_data[\"inbound_channel\"] = test_data[\"inbound_channel\"].fillna(\"no_data\")\n",
    "test_data[\"outbound_channel\"] = test_data[\"outbound_channel\"].fillna(\"no_data\")"
   ]
  },
  {
   "cell_type": "code",
   "execution_count": 7,
   "metadata": {},
   "outputs": [
    {
     "data": {
      "text/plain": [
       "lead_id                        0\n",
       "lead_date                      0\n",
       "lead_name                      0\n",
       "account_name                   0\n",
       "intro_call_satus               0\n",
       "intro_call_scheduled_date    809\n",
       "lead_stage                     0\n",
       "inbound_channel                0\n",
       "outbound_channel               0\n",
       "dtype: int64"
      ]
     },
     "execution_count": 7,
     "metadata": {},
     "output_type": "execute_result"
    }
   ],
   "source": [
    "test_data.isna().sum()"
   ]
  },
  {
   "cell_type": "markdown",
   "metadata": {},
   "source": [
    "### Displaying all rows"
   ]
  },
  {
   "cell_type": "code",
   "execution_count": 8,
   "metadata": {},
   "outputs": [],
   "source": [
    "pd.set_option('display.max_rows', None)"
   ]
  },
  {
   "cell_type": "markdown",
   "metadata": {},
   "source": [
    "### value names check, names normality"
   ]
  },
  {
   "cell_type": "markdown",
   "metadata": {},
   "source": [
    "### lead_id check"
   ]
  },
  {
   "cell_type": "code",
   "execution_count": 60,
   "metadata": {},
   "outputs": [
    {
     "data": {
      "text/plain": [
       "lead_id                               int64\n",
       "lead_date                    datetime64[ns]\n",
       "lead_name                            object\n",
       "account_name                         object\n",
       "intro_call_satus                     object\n",
       "intro_call_scheduled_date    datetime64[ns]\n",
       "lead_stage                           object\n",
       "inbound_channel                      object\n",
       "outbound_channel                     object\n",
       "dtype: object"
      ]
     },
     "execution_count": 60,
     "metadata": {},
     "output_type": "execute_result"
    }
   ],
   "source": [
    "test_data.dtypes"
   ]
  },
  {
   "cell_type": "code",
   "execution_count": 9,
   "metadata": {},
   "outputs": [
    {
     "data": {
      "text/plain": [
       "1010"
      ]
     },
     "execution_count": 9,
     "metadata": {},
     "output_type": "execute_result"
    }
   ],
   "source": [
    "test_data[\"lead_id\"].nunique()"
   ]
  },
  {
   "cell_type": "code",
   "execution_count": 103,
   "metadata": {},
   "outputs": [],
   "source": [
    "### lead_id columns is ok"
   ]
  },
  {
   "cell_type": "markdown",
   "metadata": {},
   "source": [
    "### account_name check"
   ]
  },
  {
   "cell_type": "code",
   "execution_count": 104,
   "metadata": {},
   "outputs": [
    {
     "data": {
      "text/plain": [
       "account_name\n",
       "B2B Softwares                                   15\n",
       "no_data                                         11\n",
       "Stealth Mode Company                            11\n",
       "Stealth Mode Corporation #145                    9\n",
       "DataFlow                                         3\n",
       "CyberGuardian                                    3\n",
       "FiestaFunds                                      3\n",
       "Commerce Exchange                                3\n",
       "SafePay                                          3\n",
       "TerraWild                                        3\n",
       "GuardianMind                                     2\n",
       "Elgen Manufacture Co.                            2\n",
       "GapTech                                          2\n",
       "EasyWeb                                          2\n",
       "Vega Computing                                   2\n",
       "SynkStream                                       2\n",
       "Culinary Muse                                    2\n",
       "AssetMarker                                      2\n",
       "Enigma Labs                                      2\n",
       "Lumiere                                          2\n",
       "Emergence                                        2\n",
       "DataForge.ai                                     2\n",
       "CreditCraft                                      2\n",
       "Apex Roofing                                     2\n",
       "Coil Winding Specialist                          2\n",
       "SolarBright                                      2\n",
       "Gearhead Central                                 2\n",
       "Makeup Solutions                                 2\n",
       "Waterfront Bank                                  2\n",
       "SonicClarity                                     2\n",
       "SalesFocus                                       2\n",
       "VisiTech                                         2\n",
       "BrightSpark                                      2\n",
       "EduMentor                                        2\n",
       "Zephyr Logistics                                 2\n",
       "PrivacyWall                                      2\n",
       "Horizon View                                     2\n",
       "Catalyst X                                       2\n",
       "HealthEZ                                         2\n",
       "FuelStream                                       1\n",
       "Inkwell Collective                               1\n",
       "SecureHold                                       1\n",
       "Hometown Hub                                     1\n",
       "Harmonic Systems                                 1\n",
       "SolarSpark                                       1\n",
       "Cox Petroleum Logistics                          1\n",
       "EverGreen Power                                  1\n",
       "LocalInde                                        1\n",
       "LeverageX                                        1\n",
       "Spacebound                                       1\n",
       "Bransys Technologies                             1\n",
       "MolecularMatch                                   1\n",
       "Third Dimension Interactive                      1\n",
       "Stealth Mobile                                   1\n",
       "MetaVerse                                        1\n",
       "Personal Innovation Hub                          1\n",
       "AmplifyHub                                       1\n",
       "Clement King Consulting                          1\n",
       "Deep Insights Group                              1\n",
       "Fogware Solutions                                1\n",
       "BioData Solutions                                1\n",
       "BGA Threads                                      1\n",
       "Wellspring Health                                1\n",
       "SRIVARU Holdings                                 1\n",
       "Allegra Events & Entertainment                   1\n",
       "SolarCal Solutions                               1\n",
       "PopLabs Studios                                  1\n",
       "Stockstream                                      1\n",
       "Full Circle Technologies                         1\n",
       "Lucid Motion                                     1\n",
       "Manifest Security                                1\n",
       "Audible                                          1\n",
       "Snackify                                         1\n",
       "K2J Controls                                     1\n",
       "Keevo Pay                                        1\n",
       "Scribe Media                                     1\n",
       "SolarTech Systems                                1\n",
       "Centerlight                                      1\n",
       "NextGen Digital                                  1\n",
       "Vitality Labs                                    1\n",
       "ElectroTech                                      1\n",
       "WindwardNorthern Trust Corporation               1\n",
       "Innovex Advisory                                 1\n",
       "Maxton Shipping                                  1\n",
       "Dysova                                           1\n",
       "Toma                                             1\n",
       "StepStrider                                      1\n",
       "Javala                                           1\n",
       "CashVault                                        1\n",
       "SpeakLing                                        1\n",
       "Prestige Entertainment Group                     1\n",
       "Prodigious Proclivities, Inc.                    1\n",
       "AdvantaPlayer                                    1\n",
       "CoilTech Specialists                             1\n",
       "ECR Softworks                                    1\n",
       "GSM Connect                                      1\n",
       "EverLoyalty                                      1\n",
       "Phantom                                          1\n",
       "HydroX                                           1\n",
       "CommerceConnect                                  1\n",
       "Apex GT                                          1\n",
       "YemPoverAgency Insurance Company                 1\n",
       "SwiftERMS                                        1\n",
       "Ticketstream                                     1\n",
       "The Lifetime Value                               1\n",
       "SercoBot                                         1\n",
       "EcoLime                                          1\n",
       "QlooWorks                                        1\n",
       "Track Star International                         1\n",
       "SimplFractal                                     1\n",
       "Dyson                                            1\n",
       "Moneybox                                         1\n",
       "SprachtTech                                      1\n",
       "ECR Software Corporation                         1\n",
       "PHNTMX                                           1\n",
       "J Riggin & Associates, Inc.                      1\n",
       "Cardinal Health                                  1\n",
       "GrabSRG Technology                               1\n",
       "EXLM1                                            1\n",
       "Brainpad                                         1\n",
       "QuempMed                                         1\n",
       "ITEC Entertainment                               1\n",
       "TripleRich                                       1\n",
       "TellSpec                                         1\n",
       "Sush Labs                                        1\n",
       "Charlotte Innovations                            1\n",
       "Swish Ventures                                   1\n",
       "BioFabricate                                     1\n",
       "WebWorks                                         1\n",
       "Rowplus                                          1\n",
       "EpicAI                                           1\n",
       "Lunar Pets                                       1\n",
       "ThaloZone                                        1\n",
       "Createch                                         1\n",
       "DeckGen AI                                       1\n",
       "Emry Group                                       1\n",
       "Mott Mac Consultants                             1\n",
       "Kohler Corporation                               1\n",
       "Linker                                           1\n",
       "InnoMark Data Solutions                          1\n",
       "Unified Logistics                                1\n",
       "InoSphere                                        1\n",
       "NebulaNet                                        1\n",
       "DLP Investments                                  1\n",
       "AirDeck                                          1\n",
       "Sent United Center LLC                           1\n",
       "ClaimGen AI                                      1\n",
       "Fresh Flavors                                    1\n",
       "Canvas Creative                                  1\n",
       "PointShift Consulting                            1\n",
       "Branch Out Staffing                              1\n",
       "CloudBox Creative                                1\n",
       "Tandem Launch                                    1\n",
       "Synapse Spark                                    1\n",
       "BigPower                                         1\n",
       "Lighthouse Labs                                  1\n",
       "Elemental Bright                                 1\n",
       "Kaleido Systems                                  1\n",
       "MultiVerse Solutions                             1\n",
       "ImpactTech                                       1\n",
       "BrightIdea IT Solutions                          1\n",
       "Atlas                                            1\n",
       "Dual A+ Education, LLC                           1\n",
       "Summit Ventures                                  1\n",
       "NextWave                                         1\n",
       "Navista                                          1\n",
       "KlasGov                                          1\n",
       "London Equity Group                              1\n",
       "Hustle Growth                                    1\n",
       "MUNiverse                                        1\n",
       "Wave Design                                      1\n",
       "LongView Capital                                 1\n",
       "DACOSTA Plumbing                                 1\n",
       "Bonroy Chemicals                                 1\n",
       "Melody Hotels International                      1\n",
       "ClubServe                                        1\n",
       "Callwise                                         1\n",
       "Leaf Labs                                        1\n",
       "Glance Solutions                                 1\n",
       "Curbside Cuisine                                 1\n",
       "Nimble                                           1\n",
       "BeautyCreations                                  1\n",
       "OnlineApps                                       1\n",
       "Cognito Labs                                     1\n",
       "K-America Entertainment                          1\n",
       "BrandSpark                                       1\n",
       "Muse Labs                                        1\n",
       "Enhanced Health Solutions                        1\n",
       "Trireme Capital                                  1\n",
       "Stealth Project 151                              1\n",
       "Kiwi Delivery                                    1\n",
       "Propelled Growth                                 1\n",
       "Accessway                                        1\n",
       "SecureCode Locks                                 1\n",
       "SleepTech                                        1\n",
       "National Center for Electric Mobility            1\n",
       "Analyst Insights Corporation                     1\n",
       "CareerPath Services                              1\n",
       "DotConnect Africa                                1\n",
       "North American Guardian Tools                    1\n",
       "KaiZen Solutions                                 1\n",
       "Software Haven                                   1\n",
       "Wayfarer Brands                                  1\n",
       "AidenAI                                          1\n",
       "EyeTech.ai                                       1\n",
       "TalentBuilder.ai                                 1\n",
       "Beamer Labs                                      1\n",
       "Alantra Capital                                  1\n",
       "Solar Sports Incorporated                        1\n",
       "Candor Investments                               1\n",
       "Five Arrows                                      1\n",
       "SecureHQ                                         1\n",
       "EnergyX Traders                                  1\n",
       "Advanced BioSciences                             1\n",
       "Foresight Insights                               1\n",
       "Parallel Pathways                                1\n",
       "Fox Robotics                                     1\n",
       "Lila Studios                                     1\n",
       "bSpark Trade                                     1\n",
       "Vida Design                                      1\n",
       "ArchiTech Solutions                              1\n",
       "CareFlow                                         1\n",
       "SocialBuzz                                       1\n",
       "Fletchify                                        1\n",
       "Banorte Safeguard                                1\n",
       "Adapt.ai                                         1\n",
       "The Hollis Collective                            1\n",
       "Cardstream LLC                                   1\n",
       "BitSight                                         1\n",
       "Honeycomb Data                                   1\n",
       "Cloudweave Limited                               1\n",
       "Global Visionary                                 1\n",
       "Remote TalentX                                   1\n",
       "DeepMind AI                                      1\n",
       "ThriveSite                                       1\n",
       "WebMates                                         1\n",
       "Greatly Tech                                     1\n",
       "TPConnects Solutions                             1\n",
       "Rockwell Solutions                               1\n",
       "EdgeSpark                                        1\n",
       "LumaTech Solutions                               1\n",
       "Visionary                                        1\n",
       "Avian Health                                     1\n",
       "RealEstateAus                                    1\n",
       "BridgeWire                                       1\n",
       "Speidell Associates                              1\n",
       "Elite Consulting Services                        1\n",
       "OBOX Innovations                                 1\n",
       "StreamlineFT                                     1\n",
       "REL Consulting                                   1\n",
       "ICA Solutions                                    1\n",
       "WORK Innovations                                 1\n",
       "Brachman Consulting                              1\n",
       "OffWeGo                                          1\n",
       "MoneyTune Records                                1\n",
       "HubSync                                          1\n",
       "VetSource Group                                  1\n",
       "TerraWorks                                       1\n",
       "Response Media                                   1\n",
       "Timing Technologies                              1\n",
       "Ralph & Co.                                      1\n",
       "Linkview                                         1\n",
       "CareKeepers                                      1\n",
       "SonicWave                                        1\n",
       "Couture Street                                   1\n",
       "Equity Holdings                                  1\n",
       "Startup Catalyst                                 1\n",
       "Primary Logistics                                1\n",
       "EcoLabs                                          1\n",
       "QuantumMind                                      1\n",
       "Nomad Consultants                                1\n",
       "Allwise Solutions                                1\n",
       "Texas MedTech                                    1\n",
       "StrategyFirst Innovations                        1\n",
       "IntelliSolutions                                 1\n",
       "Derhy Enterprises                                1\n",
       "Spectrum Biosciences                             1\n",
       "HighSoar                                         1\n",
       "Malcomb Ware                                     1\n",
       "Nova Semiconductors                              1\n",
       "DealFlow International                           1\n",
       "ReST Network                                     1\n",
       "Fincastle Advisors                               1\n",
       "Savitt Enterprises                               1\n",
       "Alta Aviation                                    1\n",
       "The Reformer                                     1\n",
       "Radiant Technologies                             1\n",
       "SecureAware                                      1\n",
       "Aristotle Solutions                              1\n",
       "Quantum Ventures                                 1\n",
       "Coleman Bros Tech                                1\n",
       "EvolveTech                                       1\n",
       "Peng Materials                                   1\n",
       "NeoTech                                          1\n",
       "FinHaven                                         1\n",
       "SynergySolve                                     1\n",
       "Laminar Tech                                     1\n",
       "Healing Nature                                   1\n",
       "Tierra Productions                               1\n",
       "Fusion Creative Studios                          1\n",
       "Back2U Media                                     1\n",
       "Health Insight Journal                           1\n",
       "ClinicSmart                                      1\n",
       "Mobile Solutions                                 1\n",
       "FuelTech                                         1\n",
       "Coherence                                        1\n",
       "PartyPlaza                                       1\n",
       "MedCheck                                         1\n",
       "OuterBounds                                      1\n",
       "SpaceCheck                                       1\n",
       "Noova                                            1\n",
       "Lee Innovations                                  1\n",
       "QuickShip                                        1\n",
       "Evolution Dynamics                               1\n",
       "CoachingCRM                                      1\n",
       "Global Capital Management                        1\n",
       "Optimum Technical Solutions                      1\n",
       "Bold Ventures                                    1\n",
       "ScriptScape                                      1\n",
       "Talon                                            1\n",
       "PureGlow                                         1\n",
       "AzureTech                                        1\n",
       "EmotiTech                                        1\n",
       "RockFly Systems                                  1\n",
       "CivicWise                                        1\n",
       "Enigma                                           1\n",
       "Digital Fusion Studios                           1\n",
       "LifeMark                                         1\n",
       "Proforce Ledger                                  1\n",
       "Revolve Technologies                             1\n",
       "TimeSlice                                        1\n",
       "Ralph Appelbaum Associates                       1\n",
       "Luminar Solutions                                1\n",
       "Kinship Guardians                                1\n",
       "Sonic Innovations                                1\n",
       "StreetSmart Advisors                             1\n",
       "AquaPet                                          1\n",
       "Canvass Technologies                             1\n",
       "EchoRoom                                         1\n",
       "GravitasWare                                     1\n",
       "Portola Group Logistics                          1\n",
       "EmbraceTech                                      1\n",
       "Visionary Solutions                              1\n",
       "Sales Launch                                     1\n",
       "StartRight                                       1\n",
       "DeepTech Fund                                    1\n",
       "FactCheck                                        1\n",
       "VideoSphere Federal                              1\n",
       "Exemplar Consulting                              1\n",
       "RT Vision                                        1\n",
       "Innovate Planning Group                          1\n",
       "Genesis Aid                                      1\n",
       "Pure Water Co.                                   1\n",
       "DealPoint Solutions                              1\n",
       "AL DIA Media                                     1\n",
       "OpenTeams                                        1\n",
       "Grabber                                          1\n",
       "BandMe                                           1\n",
       "YeEmpower                                        1\n",
       "Agency Insurers                                  1\n",
       "Windward Solutions                               1\n",
       "Northern Trust Co.                               1\n",
       "InnovateX Advisors                               1\n",
       "MaxShips                                         1\n",
       "OmniClicks                                       1\n",
       "OGC Solutions                                    1\n",
       "Secure Suyog Consulting                          1\n",
       "ActiveHR                                         1\n",
       "Weir Inc.                                        1\n",
       "Rio Corp                                         1\n",
       "TeamVibes                                        1\n",
       "Driven Sales                                     1\n",
       "TradeUp Network                                  1\n",
       "DeriField Investments                            1\n",
       "StandIndustries                                  1\n",
       "SD Products                                      1\n",
       "Pacific Advisory Group                           1\n",
       "OncoGen Analytics                                1\n",
       "SapienTech                                       1\n",
       "ResoBookings                                     1\n",
       "Yantrix Tech                                     1\n",
       "Beltran Sustainable Agro Consult                 1\n",
       "Advanced Earth Sciences                          1\n",
       "Prodigy Solutions                                1\n",
       "Singh Capital                                    1\n",
       "SwiftEra                                         1\n",
       "CreditWorks                                      1\n",
       "SRG Innovations                                  1\n",
       "EXEL                                             1\n",
       "CLD Solutions                                    1\n",
       "M1 Solutions                                     1\n",
       "Ziggy                                            1\n",
       "Primal Centers                                   1\n",
       "MindMatrix                                       1\n",
       "Quester Inc                                      1\n",
       "Empyreal Systems                                 1\n",
       "ITech Entertainment                              1\n",
       "TriTech                                          1\n",
       "TrimTech                                         1\n",
       "JRA Inc.                                         1\n",
       "Universal Rights                                 1\n",
       "Decapital                                        1\n",
       "Dentsu Creations                                 1\n",
       "iNotes                                           1\n",
       "LeadSphere Inc                                   1\n",
       "Unity Alliance                                   1\n",
       "PeakTech Technologies                            1\n",
       "TechSpec                                         1\n",
       "JayHart                                          1\n",
       "SushiTech                                        1\n",
       "Nomadic Realty                                   1\n",
       "Pillar Commerce                                  1\n",
       "CrossSolutions Inc.                              1\n",
       "GreenTech Planet                                 1\n",
       "North Innovations                                1\n",
       "VoyageMate App                                   1\n",
       "GreenTech Solutions                              1\n",
       "SwitchLuxe                                       1\n",
       "PatentPal                                        1\n",
       "Fox Audio Works                                  1\n",
       "Sierra Meadow Behavioral Care                    1\n",
       "Cellify                                          1\n",
       "Siadev                                           1\n",
       "NuuEd Solutions                                  1\n",
       "Nectarian                                        1\n",
       "Neighborhood Hub                                 1\n",
       "JPMC                                             1\n",
       "Harmonic Capital                                 1\n",
       "NorthStar Anesthesiology                         1\n",
       "EcoBoost                                         1\n",
       "AI Couture Showcase                              1\n",
       "Unity Workspace                                  1\n",
       "HG Creators                                      1\n",
       "VisionTek International                          1\n",
       "PowerLink                                        1\n",
       "Cordial Tech                                     1\n",
       "GoBeyond                                         1\n",
       "CareLink                                         1\n",
       "GeneSphere                                       1\n",
       "RF Innovations                                   1\n",
       "Checkpoint Developers                            1\n",
       "JNC Lake Associates                              1\n",
       "CompTech                                         1\n",
       "Finable                                          1\n",
       "Culinetic                                        1\n",
       "Hearst Media Productions                         1\n",
       "Amazon Web Solutions                             1\n",
       "TrekRescue                                       1\n",
       "TradeTech                                        1\n",
       "Acero Health                                     1\n",
       "VoltTech                                         1\n",
       "EduHub                                           1\n",
       "DataLife Inc                                     1\n",
       "CardioGen                                        1\n",
       "TechEnable LLC                                   1\n",
       "New Urban Energy                                 1\n",
       "JD Authority                                     1\n",
       "Landmark Co.                                     1\n",
       "ConnectMonster                                   1\n",
       "Wellness Innovations                             1\n",
       "RDG Solutions                                    1\n",
       "Zephyr                                           1\n",
       "AquaTech Capital Advisors                        1\n",
       "ConnectOne                                       1\n",
       "NuVision                                         1\n",
       "HyperGuard                                       1\n",
       "VirtualEdge                                      1\n",
       "HomeSolve                                        1\n",
       "Lester Enterprises                               1\n",
       "BioMetrics Systems                               1\n",
       "ContentForge                                     1\n",
       "Jirav Solutions                                  1\n",
       "Gaba Pharmaceuticals                             1\n",
       "Command Presence Training Solutions              1\n",
       "Manifest Solutions                               1\n",
       "Clouditize Solutions                             1\n",
       "IsoLar Solutions                                 1\n",
       "Aqua Solutions                                   1\n",
       "HyFi Corporation                                 1\n",
       "SellGPU Solutions                                1\n",
       "Portonics Solutions                              1\n",
       "1-800-Plumber + Air Services                     1\n",
       "ClickTripz                                       1\n",
       "GeoVisual Analytics                              1\n",
       "Cosi Consulting                                  1\n",
       "Unemployed CRM Solutions                         1\n",
       "Violet Cooperative Services                      1\n",
       "Time United Incorporated                         1\n",
       "TetraMem Solutions                               1\n",
       "Revance Pharmaceuticals                          1\n",
       "Community Electric                               1\n",
       "Accel Partners                                   1\n",
       "Circle Solutions                                 1\n",
       "BoardFinder Solutions                            1\n",
       "Dreeshah Solutions                               1\n",
       "Panella Consulting Group                         1\n",
       "GOBankingrates                                   1\n",
       "Unified Solutions                                1\n",
       "H3 Productions                                   1\n",
       "Chilean Consulting                               1\n",
       "Hui Huliau Solutions                             1\n",
       "NutriMate                                        1\n",
       "HoloCom                                          1\n",
       "NBCC Solutions                                   1\n",
       "Gnomix                                           1\n",
       "Learfield Communications                         1\n",
       "Recruit Military Solutions                       1\n",
       "MK's Lip Gloss                                   1\n",
       "Garzone Construction                             1\n",
       "Pes Solutions                                    1\n",
       "Unikoi Solutions                                 1\n",
       "Guardhouse Security                              1\n",
       "WeaveGrid                                        1\n",
       "Quimbee Solutions                                1\n",
       "Independent Consulting                           1\n",
       "Performance Analytics Corporation                1\n",
       "Molina Insurance Services                        1\n",
       "ProspectIQ AI                                    1\n",
       "NextLevel Media                                  1\n",
       "Indago Solutions                                 1\n",
       "Global Quantum Analytics                         1\n",
       "Trophy Selections                                1\n",
       "James Corporation                                1\n",
       "BD Codes                                         1\n",
       "Betty Lou's Boutique                             1\n",
       "New Braunfels Utility Co.                        1\n",
       "UrbanSitter Solutions                            1\n",
       "Vital Financial Solutions                        1\n",
       "INAGSA Solutions                                 1\n",
       "VEOS Solutions                                   1\n",
       "Stackify                                         1\n",
       "Institute for Systems Biology                    1\n",
       "Furniture Market Group                           1\n",
       "Generate Solutions                               1\n",
       "PrintTrace Systems                               1\n",
       "SmartBear                                        1\n",
       "Dish Solutions                                   1\n",
       "OpenVision                                       1\n",
       "Offtake Solutions                                1\n",
       "Airis Labs                                       1\n",
       "Digmap                                           1\n",
       "Hensel Phelps                                    1\n",
       "Angel Engine                                     1\n",
       "Collran Trades                                   1\n",
       "Hydrolyx                                         1\n",
       "Marl Accelerator                                 1\n",
       "DyeTech                                          1\n",
       "Rent2Sell                                        1\n",
       "Greenline                                        1\n",
       "Resilient Solutions                              1\n",
       "Wardlore                                         1\n",
       "High Street Holdings                             1\n",
       "PersonalProject                                  1\n",
       "The Garrison Group                               1\n",
       "MicroTech                                        1\n",
       "SkillForge                                       1\n",
       "Vidlex Informatics                               1\n",
       "PulseGen                                         1\n",
       "Curved Pixels                                    1\n",
       "Aura Consulting Services                         1\n",
       "Ahmet Kasapoglu Solutions                        1\n",
       "GreenBox Arts and Culture                        1\n",
       "Reality Reimagined                               1\n",
       "Miller Lime                                      1\n",
       "SuperNova International, Inc.                    1\n",
       "SmartDietEase                                    1\n",
       "Stellar Bank                                     1\n",
       "Lardo Portland                                   1\n",
       "Factory Assist                                   1\n",
       "Lightswitch                                      1\n",
       "Archetype Technologies                           1\n",
       "Upstream                                         1\n",
       "Ayden Merchandise                                1\n",
       "ToBeAdded                                        1\n",
       "Qarik Ventures                                   1\n",
       "Raiffeisen Digital Solutions                     1\n",
       "Cloudonix                                        1\n",
       "QuickLink                                        1\n",
       "Guardian Alliance                                1\n",
       "Fabricum Advisors                                1\n",
       "DabCo                                            1\n",
       "Vista Worldwide                                  1\n",
       "CPaaS Alliance                                   1\n",
       "Xivic Solutions                                  1\n",
       "Sasken Technologies                              1\n",
       "Vista Strategy Group                             1\n",
       "World Connect                                    1\n",
       "Apex Trade                                       1\n",
       "Baller Sports                                    1\n",
       "Apex Lab                                         1\n",
       "MetaFusion                                       1\n",
       "AxisTech                                         1\n",
       "WiseTech                                         1\n",
       "Sirius Satellite Radio                           1\n",
       "SkillBoosters                                    1\n",
       "Intellect Systems                                1\n",
       "TechSC Solutions                                 1\n",
       "VendorLink                                       1\n",
       "Activa Solutions                                 1\n",
       "Euclid Dynamics                                  1\n",
       "Culinary AI                                      1\n",
       "Impact Investments                               1\n",
       "Showcase Media                                   1\n",
       "Morgan & Co                                      1\n",
       "CouncilCube                                      1\n",
       "Brownstone Advisors                              1\n",
       "Brookfield Realty                                1\n",
       "Reinforce Systems                                1\n",
       "InvestID                                         1\n",
       "Nexus Connect                                    1\n",
       "Data Giants                                      1\n",
       "Kestra Finance                                   1\n",
       "Regenerative Materials                           1\n",
       "SoloFinder                                       1\n",
       "Axalton Alliance                                 1\n",
       "Bromton Power                                    1\n",
       "Lariat Marketing Solutions                       1\n",
       "Sky Wing Studios                                 1\n",
       "CityGroup                                        1\n",
       "Financial Operations Systems                     1\n",
       "EnviroHub                                        1\n",
       "Bavaria Marine                                   1\n",
       "Ergo Solutions                                   1\n",
       "SeedSight                                        1\n",
       "PrecisionPoint                                   1\n",
       "Fractal Stream                                   1\n",
       "Nightfall Technologies                           1\n",
       "Viral Insights                                   1\n",
       "Robotrust                                        1\n",
       "Rukli Logistics                                  1\n",
       "MKK Solutions                                    1\n",
       "OmniTech Sensors                                 1\n",
       "Cartier Enterprises                              1\n",
       "Insight AI                                       1\n",
       "RedStone Investments                             1\n",
       "Wilson & Co                                      1\n",
       "SoapWorks                                        1\n",
       "S&P Group                                        1\n",
       "Akraya Solutions                                 1\n",
       "AutoProject                                      1\n",
       "Galt Insurance Franchise                         1\n",
       "HostHive                                         1\n",
       "Synaptiq Solutions                               1\n",
       "Interactive Gaming Group                         1\n",
       "ToBeDetermined                                   1\n",
       "TickTock                                         1\n",
       "TM81                                             1\n",
       "Sage Biosystems                                  1\n",
       "Jamco USA                                        1\n",
       "Kandra Corp                                      1\n",
       "Revolve Road                                     1\n",
       "AllumTech Business Consultants                   1\n",
       "Lakemore Partnerships                            1\n",
       "PractiCo                                         1\n",
       "HighKicks                                        1\n",
       "Podium Solutions                                 1\n",
       "Palithera Solutions                              1\n",
       "Linq Technologies                                1\n",
       "Backstage Solutions                              1\n",
       "OptiMark                                         1\n",
       "EdgeTrim Lawn Services                           1\n",
       "COO Services On Demand                           1\n",
       "Style101 Solutions                               1\n",
       "TrustLayer                                       1\n",
       "Chickasaw Nation Industries                      1\n",
       "NFTC Solutions                                   1\n",
       "SpeakerMatch Solutions                           1\n",
       "MindWorks                                        1\n",
       "Sentix Global                                    1\n",
       "Alora Finance                                    1\n",
       "Wayne Enterprises                                1\n",
       "NoCo                                             1\n",
       "WellPoint                                        1\n",
       "Arctic Solutions                                 1\n",
       "Metaverse Commerce                               1\n",
       "Relative Dynamics                                1\n",
       "Enable                                           1\n",
       "Fidelis                                          1\n",
       "Prematech Systems                                1\n",
       "Peddler Marketplace                              1\n",
       "Community Bank                                   1\n",
       "JIRI - Jiangsu Industrial Research Institute     1\n",
       "EscarGo                                          1\n",
       "Global Security Exchange                         1\n",
       "QuantumStar Technologies                         1\n",
       "Daiichi Sankyo Co.                               1\n",
       "WeConnect                                        1\n",
       "160 Driving                                      1\n",
       "Passion Drive                                    1\n",
       "Interlink Strategies                             1\n",
       "Physical Sense                                   1\n",
       "Alafia Solutions                                 1\n",
       "Secure Site Check-In                             1\n",
       "UniqueBrand                                      1\n",
       "JunoXYZ, Incorporated                            1\n",
       "InsureSeeker                                     1\n",
       "Oryx Analytics Group                             1\n",
       "Dell Innovations                                 1\n",
       "Zen Dynamics                                     1\n",
       "DiverseTel                                       1\n",
       "McDee's Corp                                     1\n",
       "REAS Euro                                        1\n",
       "Visio Media                                      1\n",
       "InnoTech                                         1\n",
       "Eco-Termite Control                              1\n",
       "Halo Innovations                                 1\n",
       "WheelWise                                        1\n",
       "PJ Walters Storytelling                          1\n",
       "PowerGen Source                                  1\n",
       "OctPower Systems                                 1\n",
       "KevTech                                          1\n",
       "Stateside                                        1\n",
       "TriggerTech                                      1\n",
       "Riverfront Log Homes                             1\n",
       "Dispatch IT                                      1\n",
       "KloudWorks                                       1\n",
       "DupliTech                                        1\n",
       "Stealth Co.                                      1\n",
       "WallerTech                                       1\n",
       "MovePro                                          1\n",
       "Brainworks                                       1\n",
       "BioMed                                           1\n",
       "SparkTech                                        1\n",
       "MoverPros                                        1\n",
       "Nexus Mindworks                                  1\n",
       "BioMedica                                        1\n",
       "Medaris Tech                                     1\n",
       "Youth Academy                                    1\n",
       "Classic Car Services                             1\n",
       "Urban Store                                      1\n",
       "HealthFocus                                      1\n",
       "MagicTech                                        1\n",
       "CloudCom                                         1\n",
       "White Horse Tech                                 1\n",
       "Nordic Home Care LLC                             1\n",
       "Weinstein Corp                                   1\n",
       "Hila Schlank Designs                             1\n",
       "JD Ford Group                                    1\n",
       "Liv’s Footwear                                   1\n",
       "Tetra Insights                                   1\n",
       "Publicize                                        1\n",
       "Steadfast                                        1\n",
       "Footy                                            1\n",
       "EmilyTech                                        1\n",
       "Aware Group                                      1\n",
       "Spider Tech                                      1\n",
       "Steckac Agriculture                              1\n",
       "Logicolix                                        1\n",
       "Oortech                                          1\n",
       "Goodfin Solutions                                1\n",
       "Fortify Group                                    1\n",
       "Kellsmark                                        1\n",
       "AV Crew                                          1\n",
       "Skyline                                          1\n",
       "Shoestring.co.il                                 1\n",
       "Spark Locale                                     1\n",
       "Shaftex                                          1\n",
       "Orbit Teams                                      1\n",
       "TLPAC America                                    1\n",
       "Afro Innovations                                 1\n",
       "Delta Solutions                                  1\n",
       "PrintMaven.com                                   1\n",
       "Wave Holdings                                    1\n",
       "ZenMind                                          1\n",
       "NextGen Cards                                    1\n",
       "BetaGen                                          1\n",
       "Supply Vision                                    1\n",
       "FreshStarters                                    1\n",
       "AboutUs                                          1\n",
       "SpinFit                                          1\n",
       "FabuTech                                         1\n",
       "Summit Real Estate Advisors                      1\n",
       "Kiminy's Coaching                                1\n",
       "SunSpark                                         1\n",
       "Duo Genome                                       1\n",
       "Elsa Amsterdam                                   1\n",
       "LiveRoot                                         1\n",
       "Apartment Owners Alliance                        1\n",
       "Aviator Ventures                                 1\n",
       "DigitalSphere                                    1\n",
       "Anesthesia Professionals Club                    1\n",
       "TechLink                                         1\n",
       "American Global Development Corp.                1\n",
       "Wavely                                           1\n",
       "Atlas Bookstore                                  1\n",
       "TriZone                                          1\n",
       "TareLand Foundation                              1\n",
       "NovaSphere                                       1\n",
       "FitElevate                                       1\n",
       "Azentech                                         1\n",
       "Mission Capital                                  1\n",
       "Olanda                                           1\n",
       "Rhythm LabXs                                     1\n",
       "Genify                                           1\n",
       "TrueScript                                       1\n",
       "AzureSky AI                                      1\n",
       "RoamStay                                         1\n",
       "SwiftWave                                        1\n",
       "Stratus Solutions                                1\n",
       "FiveFlow                                         1\n",
       "Riviera Solutions                                1\n",
       "Stealthy Corp#76                                 1\n",
       "StoryCraft AI                                    1\n",
       "DreamCash                                        1\n",
       "Bankwise                                         1\n",
       "Apex Labs                                        1\n",
       "RapidEx                                          1\n",
       "FreeMarket                                       1\n",
       "MorePlus                                         1\n",
       "Playerz4Playerz                                  1\n",
       "Kross                                            1\n",
       "SanTech                                          1\n",
       "eStrategic Solutions                             1\n",
       "CobhamSat                                        1\n",
       "JudTech                                          1\n",
       "Xeno                                             1\n",
       "Native Frames                                    1\n",
       "MindAbsorb LMS                                   1\n",
       "BangTech                                         1\n",
       "First Trust Bank                                 1\n",
       "Kentegra Bio                                     1\n",
       "AutoPay AI                                       1\n",
       "MasterExchange                                   1\n",
       "CapitalOne                                       1\n",
       "Paceline Solutions                               1\n",
       "Idera Tech                                       1\n",
       "Sapient Solutions                                1\n",
       "Link Hub                                         1\n",
       "RMFactory/iQueue                                 1\n",
       "BusyQA Solutions                                 1\n",
       "Gego Tracking                                    1\n",
       "Reed's Crossing Living                           1\n",
       "FabCast Solutions                                1\n",
       "G-Track Solutions                                1\n",
       "Reed's Crossing Residences                       1\n",
       "FabForge Solutions                               1\n",
       "Brave Path                                       1\n",
       "Aapex                                            1\n",
       "RiffTech                                         1\n",
       "PayNow                                           1\n",
       "FrostTech                                        1\n",
       "Staybnb                                          1\n",
       "Center For Growth                                1\n",
       "Incentivize Solutions                            1\n",
       "MoonBit                                          1\n",
       "Holistech                                        1\n",
       "Xponential Technologies                          1\n",
       "Rodney Corp                                      1\n",
       "Madden Solutions                                 1\n",
       "Crowded News                                     1\n",
       "OpenVision Global                                1\n",
       "Advanced Retail Systems                          1\n",
       "SimplyIntellect                                  1\n",
       "IT United                                        1\n",
       "MarketMart                                       1\n",
       "ToonUp Studios                                   1\n",
       "Zymplify                                         1\n",
       "Devidiotz Tech                                   1\n",
       "TopSpot                                          1\n",
       "ServiceLink                                      1\n",
       "ToonTech Studios                                 1\n",
       "DemandGen                                        1\n",
       "Prism Solutions                                  1\n",
       "CSA360 Solutions                                 1\n",
       "LetStart UK                                      1\n",
       "Rosarium Solutions                               1\n",
       "BlueClerk Solutions                              1\n",
       "United Rise                                      1\n",
       "VictoryTech                                      1\n",
       "Alpha Fund                                       1\n",
       "Haystack                                         1\n",
       "AZ Biz Solutions                                 1\n",
       "Qube                                             1\n",
       "CocoTech                                         1\n",
       "White Lion Innovations                           1\n",
       "TinTech                                          1\n",
       "VendorOp                                         1\n",
       "Rajant Corp                                      1\n",
       "Nuuk Digital Solutions                           1\n",
       "Global XR                                        1\n",
       "TPG Innovations                                  1\n",
       "Bedolla Solutions                                1\n",
       "InVision                                         1\n",
       "ProfitPlus                                       1\n",
       "CostMetrics                                      1\n",
       "AdSphere                                         1\n",
       "Cloudado                                         1\n",
       "Danish Pharmacists Association                   1\n",
       "Acuity Solutions                                 1\n",
       "Stratis Capital                                  1\n",
       "Shield Genius                                    1\n",
       "Six Sigma Solutions                              1\n",
       "BloomTech                                        1\n",
       "RiseUp                                           1\n",
       "LinkTech                                         1\n",
       "American Maintenance Solutions                   1\n",
       "Clinical AI                                      1\n",
       "Global Standards Tech                            1\n",
       "FreeEnter                                        1\n",
       "ScaleTech Path                                   1\n",
       "Mystic                                           1\n",
       "Jungle                                           1\n",
       "BuildInnovate                                    1\n",
       "NovaTech                                         1\n",
       "RocketFinder                                     1\n",
       "EZ-Vista                                         1\n",
       "BestHyip Enterprises                             1\n",
       "Héctor Vásquez                                   1\n",
       "Mey & Co. LLC                                    1\n",
       "NDUB Corp                                        1\n",
       "Kaylog Innovations                               1\n",
       "SoftLink                                         1\n",
       "CookieTech                                       1\n",
       "FourStar                                         1\n",
       "UserX Austria                                    1\n",
       "USMLE Coaches                                    1\n",
       "Stealth Innovations #122                         1\n",
       "TV Academy                                       1\n",
       "WDHB Solutions                                   1\n",
       "Emergent Solutions                               1\n",
       "Aurora Capital                                   1\n",
       "Streamline Realty                                1\n",
       "TagTech                                          1\n",
       "LumiGo                                           1\n",
       "Tech Club                                        1\n",
       "TestGenius                                       1\n",
       "GG Gear                                          1\n",
       "Name: count, dtype: int64"
      ]
     },
     "execution_count": 104,
     "metadata": {},
     "output_type": "execute_result"
    }
   ],
   "source": [
    "test_data[\"account_name\"].value_counts()"
   ]
  },
  {
   "cell_type": "code",
   "execution_count": 81,
   "metadata": {},
   "outputs": [],
   "source": [
    "### account_names ok"
   ]
  },
  {
   "cell_type": "markdown",
   "metadata": {},
   "source": [
    "### intro_call_satus check"
   ]
  },
  {
   "cell_type": "code",
   "execution_count": 10,
   "metadata": {},
   "outputs": [
    {
     "data": {
      "text/plain": [
       "intro_call_satus\n",
       "no_data             747\n",
       "Сall completed      172\n",
       "Call canceled        51\n",
       "Call scheduled       33\n",
       "all completed         5\n",
       "Call rescheduled      1\n",
       "Call Completed        1\n",
       "Name: count, dtype: int64"
      ]
     },
     "execution_count": 10,
     "metadata": {},
     "output_type": "execute_result"
    }
   ],
   "source": [
    "test_data[\"intro_call_satus\"].value_counts()"
   ]
  },
  {
   "cell_type": "code",
   "execution_count": 63,
   "metadata": {},
   "outputs": [],
   "source": [
    "### there are string name error, lets fix them"
   ]
  },
  {
   "cell_type": "code",
   "execution_count": 11,
   "metadata": {},
   "outputs": [
    {
     "data": {
      "text/plain": [
       "intro_call_satus\n",
       "no_data             747\n",
       "Сall completed      178\n",
       "Call canceled        51\n",
       "Call scheduled       33\n",
       "Call rescheduled      1\n",
       "Name: count, dtype: int64"
      ]
     },
     "execution_count": 11,
     "metadata": {},
     "output_type": "execute_result"
    }
   ],
   "source": [
    "test_data[\"intro_call_satus\"] = test_data[\"intro_call_satus\"].replace(\"all completed\",\"Сall completed\")\n",
    "test_data[\"intro_call_satus\"] = test_data[\"intro_call_satus\"].replace(\"Call Completed\",\"Сall completed\")\n",
    "test_data[\"intro_call_satus\"].value_counts()"
   ]
  },
  {
   "cell_type": "code",
   "execution_count": 12,
   "metadata": {},
   "outputs": [
    {
     "data": {
      "text/plain": [
       "lead_id                               int64\n",
       "lead_date                    datetime64[ns]\n",
       "lead_name                            object\n",
       "account_name                         object\n",
       "intro_call_satus                     object\n",
       "intro_call_scheduled_date    datetime64[ns]\n",
       "lead_stage                           object\n",
       "inbound_channel                      object\n",
       "outbound_channel                     object\n",
       "dtype: object"
      ]
     },
     "execution_count": 12,
     "metadata": {},
     "output_type": "execute_result"
    }
   ],
   "source": [
    "test_data.dtypes"
   ]
  },
  {
   "cell_type": "markdown",
   "metadata": {},
   "source": [
    "### lead_stage check"
   ]
  },
  {
   "cell_type": "code",
   "execution_count": 13,
   "metadata": {},
   "outputs": [
    {
     "data": {
      "text/plain": [
       "lead_stage\n",
       "Closed     906\n",
       "no_data    101\n",
       "Client       3\n",
       "Name: count, dtype: int64"
      ]
     },
     "execution_count": 13,
     "metadata": {},
     "output_type": "execute_result"
    }
   ],
   "source": [
    "test_data[\"lead_stage\"].value_counts()"
   ]
  },
  {
   "cell_type": "code",
   "execution_count": 111,
   "metadata": {},
   "outputs": [],
   "source": [
    "### lead_stage is ok"
   ]
  },
  {
   "cell_type": "markdown",
   "metadata": {},
   "source": [
    "### inbound_channel check"
   ]
  },
  {
   "cell_type": "code",
   "execution_count": 14,
   "metadata": {},
   "outputs": [
    {
     "data": {
      "text/plain": [
       "inbound_channel\n",
       "no_data                              801\n",
       "Mkt: Inbound: Google Ads             107\n",
       "Mkt: Inbound: AgileEngine website     30\n",
       "Mkt: Inbound: Chat Bot                16\n",
       "Mkt: Inbound: Google Search            9\n",
       "Mkt: Inbound: Linkedin Ads             9\n",
       "Mkt: Inbound: direct / (none)          8\n",
       "Mkt: Inbound: LinkedIn Events          6\n",
       "Mkt: Inbound: TopDevelopers            5\n",
       "Mkt: Inbound: Clutch                   4\n",
       "Mkt: Inbound: TechReviewer             3\n",
       "Leadgen Agency: Amplibiz               3\n",
       "Mkt: Inbound: SelectedFirms            2\n",
       "Mkt: Inbound: Direct Email             2\n",
       "Mkt: Inbound: SuperbCompanies          1\n",
       "Mkt: Inbound: Bing Search              1\n",
       "Mkt: Inbound: Social Media             1\n",
       "Mkt: Inbound: LinkedIn Listing         1\n",
       "Mkt: Inbound: LinkedIn Platform        1\n",
       "Name: count, dtype: int64"
      ]
     },
     "execution_count": 14,
     "metadata": {},
     "output_type": "execute_result"
    }
   ],
   "source": [
    "test_data[\"inbound_channel\"].value_counts()"
   ]
  },
  {
   "cell_type": "code",
   "execution_count": 68,
   "metadata": {},
   "outputs": [],
   "source": [
    "### Deleeting the Mkt: Inbound: str"
   ]
  },
  {
   "cell_type": "code",
   "execution_count": 15,
   "metadata": {},
   "outputs": [],
   "source": [
    "test_data[\"inbound_channel\"] = test_data[\"inbound_channel\"].str.replace(\"Mkt: Inbound: \",\"\")"
   ]
  },
  {
   "cell_type": "code",
   "execution_count": 16,
   "metadata": {},
   "outputs": [
    {
     "data": {
      "text/plain": [
       "inbound_channel\n",
       "no_data                     801\n",
       "Google Ads                  107\n",
       "AgileEngine website          30\n",
       "Chat Bot                     16\n",
       "Google Search                 9\n",
       "Linkedin Ads                  9\n",
       "direct / (none)               8\n",
       "LinkedIn Events               6\n",
       "TopDevelopers                 5\n",
       "Clutch                        4\n",
       "TechReviewer                  3\n",
       "Leadgen Agency: Amplibiz      3\n",
       "SelectedFirms                 2\n",
       "Direct Email                  2\n",
       "SuperbCompanies               1\n",
       "Bing Search                   1\n",
       "Social Media                  1\n",
       "LinkedIn Listing              1\n",
       "LinkedIn Platform             1\n",
       "Name: count, dtype: int64"
      ]
     },
     "execution_count": 16,
     "metadata": {},
     "output_type": "execute_result"
    }
   ],
   "source": [
    "test_data[\"inbound_channel\"].value_counts()"
   ]
  },
  {
   "cell_type": "code",
   "execution_count": 71,
   "metadata": {},
   "outputs": [],
   "source": [
    "### inbound_channel is ok"
   ]
  },
  {
   "cell_type": "markdown",
   "metadata": {},
   "source": [
    "### outbound_channel check"
   ]
  },
  {
   "cell_type": "code",
   "execution_count": 17,
   "metadata": {},
   "outputs": [
    {
     "data": {
      "text/plain": [
       "outbound_channel\n",
       "no_data                             209\n",
       "Warm email                          207\n",
       "Mass mail                           203\n",
       "Warm LinkedIn                       201\n",
       "LinkedIn                            177\n",
       "Warm email Custom                     7\n",
       "Conferences & Events (Marketing)      5\n",
       "Sales Custom                          1\n",
       "Name: count, dtype: int64"
      ]
     },
     "execution_count": 17,
     "metadata": {},
     "output_type": "execute_result"
    }
   ],
   "source": [
    "test_data[\"outbound_channel\"].value_counts()"
   ]
  },
  {
   "cell_type": "code",
   "execution_count": 117,
   "metadata": {},
   "outputs": [],
   "source": [
    "### outbound channel is ok"
   ]
  },
  {
   "cell_type": "code",
   "execution_count": 73,
   "metadata": {},
   "outputs": [],
   "source": [
    "### creating a channel_type column"
   ]
  },
  {
   "cell_type": "code",
   "execution_count": 18,
   "metadata": {},
   "outputs": [
    {
     "data": {
      "text/plain": [
       "channel_type\n",
       "outbound    801\n",
       "Inbound     209\n",
       "Name: count, dtype: int64"
      ]
     },
     "execution_count": 18,
     "metadata": {},
     "output_type": "execute_result"
    }
   ],
   "source": [
    "test_data[\"channel_type\"] = np.where(test_data[\"outbound_channel\"] ==\"no_data\",\"Inbound\",\"outbound\")\n",
    "test_data[\"channel_type\"].value_counts()"
   ]
  },
  {
   "cell_type": "code",
   "execution_count": 75,
   "metadata": {},
   "outputs": [],
   "source": [
    "### creating a channel column"
   ]
  },
  {
   "cell_type": "code",
   "execution_count": 19,
   "metadata": {},
   "outputs": [
    {
     "data": {
      "text/plain": [
       "0       Direct Email\n",
       "1    direct / (none)\n",
       "2         Google Ads\n",
       "3          Mass mail\n",
       "4           LinkedIn\n",
       "Name: channel, dtype: object"
      ]
     },
     "execution_count": 19,
     "metadata": {},
     "output_type": "execute_result"
    }
   ],
   "source": [
    "test_data[\"channel\"] = np.where(test_data[\"outbound_channel\"]==\"no_data\",test_data[\"inbound_channel\"],test_data[\"outbound_channel\"])\n",
    "test_data[\"channel\"].head()"
   ]
  },
  {
   "cell_type": "code",
   "execution_count": 20,
   "metadata": {},
   "outputs": [
    {
     "data": {
      "text/html": [
       "<div>\n",
       "<style scoped>\n",
       "    .dataframe tbody tr th:only-of-type {\n",
       "        vertical-align: middle;\n",
       "    }\n",
       "\n",
       "    .dataframe tbody tr th {\n",
       "        vertical-align: top;\n",
       "    }\n",
       "\n",
       "    .dataframe thead th {\n",
       "        text-align: right;\n",
       "    }\n",
       "</style>\n",
       "<table border=\"1\" class=\"dataframe\">\n",
       "  <thead>\n",
       "    <tr style=\"text-align: right;\">\n",
       "      <th></th>\n",
       "      <th>lead_id</th>\n",
       "      <th>lead_date</th>\n",
       "      <th>lead_name</th>\n",
       "      <th>account_name</th>\n",
       "      <th>intro_call_satus</th>\n",
       "      <th>intro_call_scheduled_date</th>\n",
       "      <th>lead_stage</th>\n",
       "      <th>inbound_channel</th>\n",
       "      <th>outbound_channel</th>\n",
       "      <th>channel_type</th>\n",
       "      <th>channel</th>\n",
       "    </tr>\n",
       "  </thead>\n",
       "  <tbody>\n",
       "    <tr>\n",
       "      <th>0</th>\n",
       "      <td>481550356938455808</td>\n",
       "      <td>2024-04-01</td>\n",
       "      <td>Lalit</td>\n",
       "      <td>NextGen Digital</td>\n",
       "      <td>no_data</td>\n",
       "      <td>NaT</td>\n",
       "      <td>Closed</td>\n",
       "      <td>Direct Email</td>\n",
       "      <td>no_data</td>\n",
       "      <td>Inbound</td>\n",
       "      <td>Direct Email</td>\n",
       "    </tr>\n",
       "    <tr>\n",
       "      <th>1</th>\n",
       "      <td>982768502160483584</td>\n",
       "      <td>2024-04-01</td>\n",
       "      <td>Sachi</td>\n",
       "      <td>Anesthesia Professionals Club</td>\n",
       "      <td>no_data</td>\n",
       "      <td>NaT</td>\n",
       "      <td>no_data</td>\n",
       "      <td>direct / (none)</td>\n",
       "      <td>no_data</td>\n",
       "      <td>Inbound</td>\n",
       "      <td>direct / (none)</td>\n",
       "    </tr>\n",
       "    <tr>\n",
       "      <th>2</th>\n",
       "      <td>275713475600787008</td>\n",
       "      <td>2024-04-01</td>\n",
       "      <td>youcef</td>\n",
       "      <td>EduMentor</td>\n",
       "      <td>no_data</td>\n",
       "      <td>NaT</td>\n",
       "      <td>no_data</td>\n",
       "      <td>Google Ads</td>\n",
       "      <td>no_data</td>\n",
       "      <td>Inbound</td>\n",
       "      <td>Google Ads</td>\n",
       "    </tr>\n",
       "    <tr>\n",
       "      <th>3</th>\n",
       "      <td>488785612243604672</td>\n",
       "      <td>2024-04-01</td>\n",
       "      <td>Jim</td>\n",
       "      <td>Lariat Marketing Solutions</td>\n",
       "      <td>no_data</td>\n",
       "      <td>NaT</td>\n",
       "      <td>Closed</td>\n",
       "      <td>no_data</td>\n",
       "      <td>Mass mail</td>\n",
       "      <td>outbound</td>\n",
       "      <td>Mass mail</td>\n",
       "    </tr>\n",
       "    <tr>\n",
       "      <th>4</th>\n",
       "      <td>245574983586833344</td>\n",
       "      <td>2024-04-01</td>\n",
       "      <td>Eli</td>\n",
       "      <td>Sky Wing Studios</td>\n",
       "      <td>no_data</td>\n",
       "      <td>NaT</td>\n",
       "      <td>Closed</td>\n",
       "      <td>no_data</td>\n",
       "      <td>LinkedIn</td>\n",
       "      <td>outbound</td>\n",
       "      <td>LinkedIn</td>\n",
       "    </tr>\n",
       "  </tbody>\n",
       "</table>\n",
       "</div>"
      ],
      "text/plain": [
       "              lead_id  lead_date lead_name                   account_name  \\\n",
       "0  481550356938455808 2024-04-01     Lalit                NextGen Digital   \n",
       "1  982768502160483584 2024-04-01     Sachi  Anesthesia Professionals Club   \n",
       "2  275713475600787008 2024-04-01    youcef                      EduMentor   \n",
       "3  488785612243604672 2024-04-01       Jim     Lariat Marketing Solutions   \n",
       "4  245574983586833344 2024-04-01       Eli               Sky Wing Studios   \n",
       "\n",
       "  intro_call_satus intro_call_scheduled_date lead_stage  inbound_channel  \\\n",
       "0          no_data                       NaT     Closed     Direct Email   \n",
       "1          no_data                       NaT    no_data  direct / (none)   \n",
       "2          no_data                       NaT    no_data       Google Ads   \n",
       "3          no_data                       NaT     Closed          no_data   \n",
       "4          no_data                       NaT     Closed          no_data   \n",
       "\n",
       "  outbound_channel channel_type          channel  \n",
       "0          no_data      Inbound     Direct Email  \n",
       "1          no_data      Inbound  direct / (none)  \n",
       "2          no_data      Inbound       Google Ads  \n",
       "3        Mass mail     outbound        Mass mail  \n",
       "4         LinkedIn     outbound         LinkedIn  "
      ]
     },
     "execution_count": 20,
     "metadata": {},
     "output_type": "execute_result"
    }
   ],
   "source": [
    "test_data.head()"
   ]
  },
  {
   "cell_type": "code",
   "execution_count": 98,
   "metadata": {},
   "outputs": [
    {
     "data": {
      "text/plain": [
       "lead_id                               int64\n",
       "lead_date                    datetime64[ns]\n",
       "lead_name                            object\n",
       "account_name                         object\n",
       "intro_call_satus                     object\n",
       "intro_call_scheduled_date    datetime64[ns]\n",
       "lead_stage                           object\n",
       "inbound_channel                      object\n",
       "outbound_channel                     object\n",
       "channel_type                         object\n",
       "channel                              object\n",
       "dtype: object"
      ]
     },
     "execution_count": 98,
     "metadata": {},
     "output_type": "execute_result"
    }
   ],
   "source": [
    "test_data.dtypes"
   ]
  },
  {
   "cell_type": "markdown",
   "metadata": {},
   "source": [
    "### Testing the lead_date and intro_call_scheduled_date for inconsistencies "
   ]
  },
  {
   "cell_type": "code",
   "execution_count": 21,
   "metadata": {},
   "outputs": [
    {
     "data": {
      "text/plain": [
       "intro_call_scheduled_date_check\n",
       "ok       1003\n",
       "error       7\n",
       "Name: count, dtype: int64"
      ]
     },
     "execution_count": 21,
     "metadata": {},
     "output_type": "execute_result"
    }
   ],
   "source": [
    "test_data[\"intro_call_scheduled_date_check\"] = np.where(test_data[\"intro_call_scheduled_date\"]<test_data[\"lead_date\"],\"error\",\"ok\")\n",
    "test_data[\"intro_call_scheduled_date_check\"].value_counts()"
   ]
  },
  {
   "cell_type": "code",
   "execution_count": 22,
   "metadata": {},
   "outputs": [],
   "source": [
    "### dropping check column\n",
    "test_data.drop(columns=\"intro_call_scheduled_date_check\",axis=1,inplace=True)"
   ]
  },
  {
   "cell_type": "code",
   "execution_count": null,
   "metadata": {},
   "outputs": [],
   "source": [
    "### There is 7 rows where the intro_call_scheduled_date is before the lead_date, the date when we acquired the lead, this is inconsistent"
   ]
  },
  {
   "cell_type": "code",
   "execution_count": 44,
   "metadata": {},
   "outputs": [],
   "source": [
    "### fixing date inconsistencies in intro_call_scheduled_date, i will change this 7 rows to blank data"
   ]
  },
  {
   "cell_type": "code",
   "execution_count": 23,
   "metadata": {},
   "outputs": [],
   "source": [
    "test_data[\"intro_call_scheduled_date\"] = np.where(test_data[\"intro_call_scheduled_date\"]<test_data[\"lead_date\"],pd.NaT,test_data[\"intro_call_scheduled_date\"])"
   ]
  },
  {
   "cell_type": "code",
   "execution_count": 24,
   "metadata": {},
   "outputs": [],
   "source": [
    "test_data[\"intro_call_scheduled_date\"] = pd.to_datetime(test_data[\"intro_call_scheduled_date\"])"
   ]
  },
  {
   "cell_type": "code",
   "execution_count": 25,
   "metadata": {},
   "outputs": [
    {
     "data": {
      "text/plain": [
       "lead_id                               int64\n",
       "lead_date                    datetime64[ns]\n",
       "lead_name                            object\n",
       "account_name                         object\n",
       "intro_call_satus                     object\n",
       "intro_call_scheduled_date    datetime64[ns]\n",
       "lead_stage                           object\n",
       "inbound_channel                      object\n",
       "outbound_channel                     object\n",
       "channel_type                         object\n",
       "channel                              object\n",
       "dtype: object"
      ]
     },
     "execution_count": 25,
     "metadata": {},
     "output_type": "execute_result"
    }
   ],
   "source": [
    "test_data.dtypes"
   ]
  },
  {
   "cell_type": "code",
   "execution_count": 26,
   "metadata": {},
   "outputs": [
    {
     "data": {
      "text/plain": [
       "intro_call_scheduled_date_check\n",
       "ok    1010\n",
       "Name: count, dtype: int64"
      ]
     },
     "execution_count": 26,
     "metadata": {},
     "output_type": "execute_result"
    }
   ],
   "source": [
    "test_data[\"intro_call_scheduled_date_check\"] = np.where(test_data[\"intro_call_scheduled_date\"]<test_data[\"lead_date\"],\"error\",\"ok\")\n",
    "test_data[\"intro_call_scheduled_date_check\"].value_counts()"
   ]
  },
  {
   "cell_type": "code",
   "execution_count": 27,
   "metadata": {},
   "outputs": [],
   "source": [
    "### dropping check column\n",
    "test_data.drop(columns=\"intro_call_scheduled_date_check\",axis=1,inplace=True)"
   ]
  },
  {
   "cell_type": "code",
   "execution_count": 113,
   "metadata": {},
   "outputs": [],
   "source": [
    "### 7 inconsistencies transformed to blank values"
   ]
  },
  {
   "cell_type": "markdown",
   "metadata": {},
   "source": [
    "### exporting data transformed"
   ]
  },
  {
   "cell_type": "code",
   "execution_count": 118,
   "metadata": {},
   "outputs": [],
   "source": [
    "test_data.to_excel(\"test_analysis_etl.xlsx\",index=False)"
   ]
  },
  {
   "cell_type": "code",
   "execution_count": 29,
   "metadata": {},
   "outputs": [],
   "source": [
    "test_data.to_csv(\"test_analysis_etl.csv\",index=False)"
   ]
  },
  {
   "cell_type": "markdown",
   "metadata": {},
   "source": [
    "# Conclusion/ETL Report"
   ]
  },
  {
   "cell_type": "markdown",
   "metadata": {},
   "source": [
    "## Dataset Errors"
   ]
  },
  {
   "cell_type": "markdown",
   "metadata": {},
   "source": [
    "#### The column \"intro_call_satus\" has typing errors, we must fix them by giving the user the name to choose from a list or with a sql function in the database, we are now aware of this error and we must find the way to avoid the error. I have resolved the error for this dataset."
   ]
  },
  {
   "cell_type": "markdown",
   "metadata": {},
   "source": [
    "#### The column \"intro_call_scheduled_date\" has schechuled dates that are before we even acquired the lead \"lead_date\".I have resolved the error for this dataset."
   ]
  },
  {
   "cell_type": "markdown",
   "metadata": {},
   "source": [
    "## Missing Data"
   ]
  },
  {
   "cell_type": "markdown",
   "metadata": {},
   "source": [
    "#### Lots of missing data in general "
   ]
  },
  {
   "cell_type": "markdown",
   "metadata": {},
   "source": [
    "#### Columns \"intro_call_status\" and \"intro_call_scheduled_date\" contain very important information, we must keep a track of the contacted leads and the schedule date for contacting them, we should try not to have null values heere"
   ]
  },
  {
   "cell_type": "markdown",
   "metadata": {},
   "source": [
    "#### Filled \"NA\" values of string columns with \"no_data\""
   ]
  },
  {
   "cell_type": "markdown",
   "metadata": {},
   "source": [
    "## Dataset Expansion and Transformations"
   ]
  },
  {
   "cell_type": "markdown",
   "metadata": {},
   "source": [
    "#### Created the \"channel_type\" to study the inbound_channel and outbound_channel efficiency"
   ]
  },
  {
   "cell_type": "markdown",
   "metadata": {},
   "source": [
    "#### Created the \"channel\" column to slice by in reports"
   ]
  },
  {
   "cell_type": "markdown",
   "metadata": {},
   "source": [
    "#### Deleted str \"Mkt: Inbound: \" from inbound_channel"
   ]
  },
  {
   "cell_type": "markdown",
   "metadata": {},
   "source": [
    "## Ideas/Suggestions"
   ]
  },
  {
   "cell_type": "markdown",
   "metadata": {},
   "source": [
    "#### We could add the info of last_time_contacted, could be usefull for following leads that sowed a possitive response and have probability of conversion. We should keep in contact with this type of leeds thet will convert into clients after more contacting times and also study the optimal time between client contact. We could define engagement metrics like lead response time and follow up rate."
   ]
  },
  {
   "cell_type": "markdown",
   "metadata": {},
   "source": [
    "#### Lead_stage status columm should be divided into more status options than just \"closed\" and \"client\", we should be able to give the sales department data to tracking the progress of each lead through the various stages of the sales, to help with priorization based on the state of the lead and to highlight and find potential bottlenecks in the sales pipeline.we must try not to have null values heere. I assume we keep track of the full client convertion steps becouse we have the \"Closed\" status in the lead_stage column."
   ]
  },
  {
   "cell_type": "markdown",
   "metadata": {},
   "source": [
    "#### The more data columns we have the more chances we have of clusterize clients and define more effective actions for the sales people based on clusterization. Also with additional data like Costs, a more developped lead_stage column and a last time contacted column we could bild KPIS like Lead Quality, NPS, Cost per acquisition, etc. "
   ]
  },
  {
   "cell_type": "code",
   "execution_count": null,
   "metadata": {},
   "outputs": [],
   "source": []
  },
  {
   "cell_type": "code",
   "execution_count": null,
   "metadata": {},
   "outputs": [],
   "source": []
  },
  {
   "cell_type": "code",
   "execution_count": null,
   "metadata": {},
   "outputs": [],
   "source": []
  },
  {
   "cell_type": "code",
   "execution_count": null,
   "metadata": {},
   "outputs": [],
   "source": []
  },
  {
   "cell_type": "code",
   "execution_count": null,
   "metadata": {},
   "outputs": [],
   "source": []
  },
  {
   "cell_type": "code",
   "execution_count": null,
   "metadata": {},
   "outputs": [],
   "source": []
  },
  {
   "cell_type": "code",
   "execution_count": null,
   "metadata": {},
   "outputs": [],
   "source": []
  }
 ],
 "metadata": {
  "kernelspec": {
   "display_name": "aeenv",
   "language": "python",
   "name": "python3"
  },
  "language_info": {
   "codemirror_mode": {
    "name": "ipython",
    "version": 3
   },
   "file_extension": ".py",
   "mimetype": "text/x-python",
   "name": "python",
   "nbconvert_exporter": "python",
   "pygments_lexer": "ipython3",
   "version": "3.11.5"
  }
 },
 "nbformat": 4,
 "nbformat_minor": 2
}
